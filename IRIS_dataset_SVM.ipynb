{
  "nbformat": 4,
  "nbformat_minor": 0,
  "metadata": {
    "kernelspec": {
      "display_name": "Python 3",
      "language": "python",
      "name": "python3"
    },
    "language_info": {
      "codemirror_mode": {
        "name": "ipython",
        "version": 3
      },
      "file_extension": ".py",
      "mimetype": "text/x-python",
      "name": "python",
      "nbconvert_exporter": "python",
      "pygments_lexer": "ipython3",
      "version": "3.6.0"
    },
    "colab": {
      "name": "IRIS_dataset_SVM.ipynb",
      "provenance": [],
      "collapsed_sections": [
        "ZwmEgMGfEo5V",
        "07qrqEvYG4yK",
        "wP-Lt_OHOzSw",
        "2iarRlPTbYac",
        "gY3UEWyhYSBN",
        "BsVPeNOM8aS4",
        "SW5PJ9VqEg1Y",
        "PiEVWKWZH2w6",
        "zFGffrn1JRqE",
        "1tEw0oWZK8UI",
        "3lDaBlXSffCy",
        "6WsP_GM_kO-r",
        "2zwg7wRcp7e8",
        "4fCUtCsJp7fc",
        "6w8fTs8xp7fh",
        "QO6j33Tjp7fw"
      ],
      "toc_visible": true
    }
  },
  "cells": [
    {
      "cell_type": "markdown",
      "metadata": {
        "id": "gY3UEWyhYSBN"
      },
      "source": [
        "\n",
        "## IRIS DATASET USING CLASSIFICATION BASED METHOD USING PRE-BUILT DATASET\n",
        "The iris dataset is pre-built within SKLEARN. Thus, it can be loaded"
      ]
    },
    {
      "cell_type": "code",
      "metadata": {
        "id": "jXSGV3-e5gck"
      },
      "source": [
        "import pandas as pd\n",
        "import numpy as np\n",
        "import seaborn as sns\n",
        "import matplotlib.pyplot as plt\n",
        "%matplotlib inline"
      ],
      "execution_count": 2,
      "outputs": []
    },
    {
      "cell_type": "code",
      "metadata": {
        "id": "D_QNoLq_ZQ2k"
      },
      "source": [
        "from sklearn.datasets import load_iris"
      ],
      "execution_count": 10,
      "outputs": []
    },
    {
      "cell_type": "markdown",
      "metadata": {
        "id": "StD27uJwZeNE"
      },
      "source": [
        "we can load the iris dataset using the load_iris function"
      ]
    },
    {
      "cell_type": "code",
      "metadata": {
        "id": "_i1kGtncZdXL"
      },
      "source": [
        "iris=load_iris()"
      ],
      "execution_count": 11,
      "outputs": []
    },
    {
      "cell_type": "markdown",
      "metadata": {
        "id": "WO64WIvbaGDw"
      },
      "source": [
        "The Iris object that is returned by load_iris is BUNCH object, which is similar to a dictionary. It contains KEYS and VALUES"
      ]
    },
    {
      "cell_type": "code",
      "metadata": {
        "id": "ftTEgS8yZQz1",
        "colab": {
          "base_uri": "https://localhost:8080/"
        },
        "outputId": "657ec9e9-f1c2-47bf-c460-857dd6fa5798"
      },
      "source": [
        "iris.keys()"
      ],
      "execution_count": 12,
      "outputs": [
        {
          "output_type": "execute_result",
          "data": {
            "text/plain": [
              "dict_keys(['data', 'target', 'target_names', 'DESCR', 'feature_names', 'filename'])"
            ]
          },
          "metadata": {
            "tags": []
          },
          "execution_count": 12
        }
      ]
    },
    {
      "cell_type": "markdown",
      "metadata": {
        "id": "7y9VwVsca1tT"
      },
      "source": [
        "DESCRIPTION OF IRIS DATASET"
      ]
    },
    {
      "cell_type": "markdown",
      "metadata": {
        "id": "RyjZvqgTanWO"
      },
      "source": [
        "Among the keys obtained. The DESCRIPTION to the iris dataset is provided by the \"DESCR\" key"
      ]
    },
    {
      "cell_type": "code",
      "metadata": {
        "id": "gh8sutT_ZQuc",
        "colab": {
          "base_uri": "https://localhost:8080/"
        },
        "outputId": "a454c4ce-e768-451a-a2fa-cb6d18ffb83e"
      },
      "source": [
        "print(iris['DESCR'])"
      ],
      "execution_count": 13,
      "outputs": [
        {
          "output_type": "stream",
          "text": [
            ".. _iris_dataset:\n",
            "\n",
            "Iris plants dataset\n",
            "--------------------\n",
            "\n",
            "**Data Set Characteristics:**\n",
            "\n",
            "    :Number of Instances: 150 (50 in each of three classes)\n",
            "    :Number of Attributes: 4 numeric, predictive attributes and the class\n",
            "    :Attribute Information:\n",
            "        - sepal length in cm\n",
            "        - sepal width in cm\n",
            "        - petal length in cm\n",
            "        - petal width in cm\n",
            "        - class:\n",
            "                - Iris-Setosa\n",
            "                - Iris-Versicolour\n",
            "                - Iris-Virginica\n",
            "                \n",
            "    :Summary Statistics:\n",
            "\n",
            "    ============== ==== ==== ======= ===== ====================\n",
            "                    Min  Max   Mean    SD   Class Correlation\n",
            "    ============== ==== ==== ======= ===== ====================\n",
            "    sepal length:   4.3  7.9   5.84   0.83    0.7826\n",
            "    sepal width:    2.0  4.4   3.05   0.43   -0.4194\n",
            "    petal length:   1.0  6.9   3.76   1.76    0.9490  (high!)\n",
            "    petal width:    0.1  2.5   1.20   0.76    0.9565  (high!)\n",
            "    ============== ==== ==== ======= ===== ====================\n",
            "\n",
            "    :Missing Attribute Values: None\n",
            "    :Class Distribution: 33.3% for each of 3 classes.\n",
            "    :Creator: R.A. Fisher\n",
            "    :Donor: Michael Marshall (MARSHALL%PLU@io.arc.nasa.gov)\n",
            "    :Date: July, 1988\n",
            "\n",
            "The famous Iris database, first used by Sir R.A. Fisher. The dataset is taken\n",
            "from Fisher's paper. Note that it's the same as in R, but not as in the UCI\n",
            "Machine Learning Repository, which has two wrong data points.\n",
            "\n",
            "This is perhaps the best known database to be found in the\n",
            "pattern recognition literature.  Fisher's paper is a classic in the field and\n",
            "is referenced frequently to this day.  (See Duda & Hart, for example.)  The\n",
            "data set contains 3 classes of 50 instances each, where each class refers to a\n",
            "type of iris plant.  One class is linearly separable from the other 2; the\n",
            "latter are NOT linearly separable from each other.\n",
            "\n",
            ".. topic:: References\n",
            "\n",
            "   - Fisher, R.A. \"The use of multiple measurements in taxonomic problems\"\n",
            "     Annual Eugenics, 7, Part II, 179-188 (1936); also in \"Contributions to\n",
            "     Mathematical Statistics\" (John Wiley, NY, 1950).\n",
            "   - Duda, R.O., & Hart, P.E. (1973) Pattern Classification and Scene Analysis.\n",
            "     (Q327.D83) John Wiley & Sons.  ISBN 0-471-22361-1.  See page 218.\n",
            "   - Dasarathy, B.V. (1980) \"Nosing Around the Neighborhood: A New System\n",
            "     Structure and Classification Rule for Recognition in Partially Exposed\n",
            "     Environments\".  IEEE Transactions on Pattern Analysis and Machine\n",
            "     Intelligence, Vol. PAMI-2, No. 1, 67-71.\n",
            "   - Gates, G.W. (1972) \"The Reduced Nearest Neighbor Rule\".  IEEE Transactions\n",
            "     on Information Theory, May 1972, 431-433.\n",
            "   - See also: 1988 MLC Proceedings, 54-64.  Cheeseman et al\"s AUTOCLASS II\n",
            "     conceptual clustering system finds 3 classes in the data.\n",
            "   - Many, many more ...\n"
          ],
          "name": "stdout"
        }
      ]
    },
    {
      "cell_type": "markdown",
      "metadata": {
        "id": "etTAXIhMbkOc"
      },
      "source": [
        "In all supervised machine learning methods. \n",
        "- DEPENDENT VARIABLE = TARGET VARIABLES\n",
        "- INDEPENDENT VARIABLE = FEATURES\n",
        "\n",
        "In iris dataset. The dependent variable is Species data (referred as TARGET). The names of the classes is in Target_names"
      ]
    },
    {
      "cell_type": "code",
      "metadata": {
        "id": "rlHaSNZRZQq3",
        "colab": {
          "base_uri": "https://localhost:8080/"
        },
        "outputId": "0134c8be-f44a-41d3-d075-8fc6b7e0c9eb"
      },
      "source": [
        "iris['target_names']"
      ],
      "execution_count": 14,
      "outputs": [
        {
          "output_type": "execute_result",
          "data": {
            "text/plain": [
              "array(['setosa', 'versicolor', 'virginica'], dtype='<U10')"
            ]
          },
          "metadata": {
            "tags": []
          },
          "execution_count": 14
        }
      ]
    },
    {
      "cell_type": "markdown",
      "metadata": {
        "id": "wd8p4KxZcesY"
      },
      "source": [
        "The feature_names consists of independent variable names which is saved as a list of strings"
      ]
    },
    {
      "cell_type": "code",
      "metadata": {
        "id": "8Ru54XdVZQmt",
        "colab": {
          "base_uri": "https://localhost:8080/"
        },
        "outputId": "2a9f0460-55f6-428f-a1de-5456ed8661e4"
      },
      "source": [
        "iris['feature_names']"
      ],
      "execution_count": 15,
      "outputs": [
        {
          "output_type": "execute_result",
          "data": {
            "text/plain": [
              "['sepal length (cm)',\n",
              " 'sepal width (cm)',\n",
              " 'petal length (cm)',\n",
              " 'petal width (cm)']"
            ]
          },
          "metadata": {
            "tags": []
          },
          "execution_count": 15
        }
      ]
    },
    {
      "cell_type": "markdown",
      "metadata": {
        "id": "pBHvhUbgc6EG"
      },
      "source": [
        "The data of all the independent variables(features) is stored seperately in \"data\" variable"
      ]
    },
    {
      "cell_type": "code",
      "metadata": {
        "id": "hRESyx90ZQin",
        "colab": {
          "base_uri": "https://localhost:8080/"
        },
        "outputId": "f038b32f-9244-49ef-93e0-4358e2fd1bab"
      },
      "source": [
        "iris['data']"
      ],
      "execution_count": 16,
      "outputs": [
        {
          "output_type": "execute_result",
          "data": {
            "text/plain": [
              "array([[5.1, 3.5, 1.4, 0.2],\n",
              "       [4.9, 3. , 1.4, 0.2],\n",
              "       [4.7, 3.2, 1.3, 0.2],\n",
              "       [4.6, 3.1, 1.5, 0.2],\n",
              "       [5. , 3.6, 1.4, 0.2],\n",
              "       [5.4, 3.9, 1.7, 0.4],\n",
              "       [4.6, 3.4, 1.4, 0.3],\n",
              "       [5. , 3.4, 1.5, 0.2],\n",
              "       [4.4, 2.9, 1.4, 0.2],\n",
              "       [4.9, 3.1, 1.5, 0.1],\n",
              "       [5.4, 3.7, 1.5, 0.2],\n",
              "       [4.8, 3.4, 1.6, 0.2],\n",
              "       [4.8, 3. , 1.4, 0.1],\n",
              "       [4.3, 3. , 1.1, 0.1],\n",
              "       [5.8, 4. , 1.2, 0.2],\n",
              "       [5.7, 4.4, 1.5, 0.4],\n",
              "       [5.4, 3.9, 1.3, 0.4],\n",
              "       [5.1, 3.5, 1.4, 0.3],\n",
              "       [5.7, 3.8, 1.7, 0.3],\n",
              "       [5.1, 3.8, 1.5, 0.3],\n",
              "       [5.4, 3.4, 1.7, 0.2],\n",
              "       [5.1, 3.7, 1.5, 0.4],\n",
              "       [4.6, 3.6, 1. , 0.2],\n",
              "       [5.1, 3.3, 1.7, 0.5],\n",
              "       [4.8, 3.4, 1.9, 0.2],\n",
              "       [5. , 3. , 1.6, 0.2],\n",
              "       [5. , 3.4, 1.6, 0.4],\n",
              "       [5.2, 3.5, 1.5, 0.2],\n",
              "       [5.2, 3.4, 1.4, 0.2],\n",
              "       [4.7, 3.2, 1.6, 0.2],\n",
              "       [4.8, 3.1, 1.6, 0.2],\n",
              "       [5.4, 3.4, 1.5, 0.4],\n",
              "       [5.2, 4.1, 1.5, 0.1],\n",
              "       [5.5, 4.2, 1.4, 0.2],\n",
              "       [4.9, 3.1, 1.5, 0.2],\n",
              "       [5. , 3.2, 1.2, 0.2],\n",
              "       [5.5, 3.5, 1.3, 0.2],\n",
              "       [4.9, 3.6, 1.4, 0.1],\n",
              "       [4.4, 3. , 1.3, 0.2],\n",
              "       [5.1, 3.4, 1.5, 0.2],\n",
              "       [5. , 3.5, 1.3, 0.3],\n",
              "       [4.5, 2.3, 1.3, 0.3],\n",
              "       [4.4, 3.2, 1.3, 0.2],\n",
              "       [5. , 3.5, 1.6, 0.6],\n",
              "       [5.1, 3.8, 1.9, 0.4],\n",
              "       [4.8, 3. , 1.4, 0.3],\n",
              "       [5.1, 3.8, 1.6, 0.2],\n",
              "       [4.6, 3.2, 1.4, 0.2],\n",
              "       [5.3, 3.7, 1.5, 0.2],\n",
              "       [5. , 3.3, 1.4, 0.2],\n",
              "       [7. , 3.2, 4.7, 1.4],\n",
              "       [6.4, 3.2, 4.5, 1.5],\n",
              "       [6.9, 3.1, 4.9, 1.5],\n",
              "       [5.5, 2.3, 4. , 1.3],\n",
              "       [6.5, 2.8, 4.6, 1.5],\n",
              "       [5.7, 2.8, 4.5, 1.3],\n",
              "       [6.3, 3.3, 4.7, 1.6],\n",
              "       [4.9, 2.4, 3.3, 1. ],\n",
              "       [6.6, 2.9, 4.6, 1.3],\n",
              "       [5.2, 2.7, 3.9, 1.4],\n",
              "       [5. , 2. , 3.5, 1. ],\n",
              "       [5.9, 3. , 4.2, 1.5],\n",
              "       [6. , 2.2, 4. , 1. ],\n",
              "       [6.1, 2.9, 4.7, 1.4],\n",
              "       [5.6, 2.9, 3.6, 1.3],\n",
              "       [6.7, 3.1, 4.4, 1.4],\n",
              "       [5.6, 3. , 4.5, 1.5],\n",
              "       [5.8, 2.7, 4.1, 1. ],\n",
              "       [6.2, 2.2, 4.5, 1.5],\n",
              "       [5.6, 2.5, 3.9, 1.1],\n",
              "       [5.9, 3.2, 4.8, 1.8],\n",
              "       [6.1, 2.8, 4. , 1.3],\n",
              "       [6.3, 2.5, 4.9, 1.5],\n",
              "       [6.1, 2.8, 4.7, 1.2],\n",
              "       [6.4, 2.9, 4.3, 1.3],\n",
              "       [6.6, 3. , 4.4, 1.4],\n",
              "       [6.8, 2.8, 4.8, 1.4],\n",
              "       [6.7, 3. , 5. , 1.7],\n",
              "       [6. , 2.9, 4.5, 1.5],\n",
              "       [5.7, 2.6, 3.5, 1. ],\n",
              "       [5.5, 2.4, 3.8, 1.1],\n",
              "       [5.5, 2.4, 3.7, 1. ],\n",
              "       [5.8, 2.7, 3.9, 1.2],\n",
              "       [6. , 2.7, 5.1, 1.6],\n",
              "       [5.4, 3. , 4.5, 1.5],\n",
              "       [6. , 3.4, 4.5, 1.6],\n",
              "       [6.7, 3.1, 4.7, 1.5],\n",
              "       [6.3, 2.3, 4.4, 1.3],\n",
              "       [5.6, 3. , 4.1, 1.3],\n",
              "       [5.5, 2.5, 4. , 1.3],\n",
              "       [5.5, 2.6, 4.4, 1.2],\n",
              "       [6.1, 3. , 4.6, 1.4],\n",
              "       [5.8, 2.6, 4. , 1.2],\n",
              "       [5. , 2.3, 3.3, 1. ],\n",
              "       [5.6, 2.7, 4.2, 1.3],\n",
              "       [5.7, 3. , 4.2, 1.2],\n",
              "       [5.7, 2.9, 4.2, 1.3],\n",
              "       [6.2, 2.9, 4.3, 1.3],\n",
              "       [5.1, 2.5, 3. , 1.1],\n",
              "       [5.7, 2.8, 4.1, 1.3],\n",
              "       [6.3, 3.3, 6. , 2.5],\n",
              "       [5.8, 2.7, 5.1, 1.9],\n",
              "       [7.1, 3. , 5.9, 2.1],\n",
              "       [6.3, 2.9, 5.6, 1.8],\n",
              "       [6.5, 3. , 5.8, 2.2],\n",
              "       [7.6, 3. , 6.6, 2.1],\n",
              "       [4.9, 2.5, 4.5, 1.7],\n",
              "       [7.3, 2.9, 6.3, 1.8],\n",
              "       [6.7, 2.5, 5.8, 1.8],\n",
              "       [7.2, 3.6, 6.1, 2.5],\n",
              "       [6.5, 3.2, 5.1, 2. ],\n",
              "       [6.4, 2.7, 5.3, 1.9],\n",
              "       [6.8, 3. , 5.5, 2.1],\n",
              "       [5.7, 2.5, 5. , 2. ],\n",
              "       [5.8, 2.8, 5.1, 2.4],\n",
              "       [6.4, 3.2, 5.3, 2.3],\n",
              "       [6.5, 3. , 5.5, 1.8],\n",
              "       [7.7, 3.8, 6.7, 2.2],\n",
              "       [7.7, 2.6, 6.9, 2.3],\n",
              "       [6. , 2.2, 5. , 1.5],\n",
              "       [6.9, 3.2, 5.7, 2.3],\n",
              "       [5.6, 2.8, 4.9, 2. ],\n",
              "       [7.7, 2.8, 6.7, 2. ],\n",
              "       [6.3, 2.7, 4.9, 1.8],\n",
              "       [6.7, 3.3, 5.7, 2.1],\n",
              "       [7.2, 3.2, 6. , 1.8],\n",
              "       [6.2, 2.8, 4.8, 1.8],\n",
              "       [6.1, 3. , 4.9, 1.8],\n",
              "       [6.4, 2.8, 5.6, 2.1],\n",
              "       [7.2, 3. , 5.8, 1.6],\n",
              "       [7.4, 2.8, 6.1, 1.9],\n",
              "       [7.9, 3.8, 6.4, 2. ],\n",
              "       [6.4, 2.8, 5.6, 2.2],\n",
              "       [6.3, 2.8, 5.1, 1.5],\n",
              "       [6.1, 2.6, 5.6, 1.4],\n",
              "       [7.7, 3. , 6.1, 2.3],\n",
              "       [6.3, 3.4, 5.6, 2.4],\n",
              "       [6.4, 3.1, 5.5, 1.8],\n",
              "       [6. , 3. , 4.8, 1.8],\n",
              "       [6.9, 3.1, 5.4, 2.1],\n",
              "       [6.7, 3.1, 5.6, 2.4],\n",
              "       [6.9, 3.1, 5.1, 2.3],\n",
              "       [5.8, 2.7, 5.1, 1.9],\n",
              "       [6.8, 3.2, 5.9, 2.3],\n",
              "       [6.7, 3.3, 5.7, 2.5],\n",
              "       [6.7, 3. , 5.2, 2.3],\n",
              "       [6.3, 2.5, 5. , 1.9],\n",
              "       [6.5, 3. , 5.2, 2. ],\n",
              "       [6.2, 3.4, 5.4, 2.3],\n",
              "       [5.9, 3. , 5.1, 1.8]])"
            ]
          },
          "metadata": {
            "tags": []
          },
          "execution_count": 16
        }
      ]
    },
    {
      "cell_type": "code",
      "metadata": {
        "id": "-oL2IPGAZQdu",
        "colab": {
          "base_uri": "https://localhost:8080/"
        },
        "outputId": "34ff2477-6d7e-4399-90c2-e372c23013e6"
      },
      "source": [
        "type(iris['data']) #The independent variable data is stored as numpy array"
      ],
      "execution_count": 17,
      "outputs": [
        {
          "output_type": "execute_result",
          "data": {
            "text/plain": [
              "numpy.ndarray"
            ]
          },
          "metadata": {
            "tags": []
          },
          "execution_count": 17
        }
      ]
    },
    {
      "cell_type": "code",
      "metadata": {
        "id": "fB7Jya7wdi5d",
        "colab": {
          "base_uri": "https://localhost:8080/"
        },
        "outputId": "f97796ff-83c7-4a50-c21f-29561e19af54"
      },
      "source": [
        "iris['data'].shape"
      ],
      "execution_count": 18,
      "outputs": [
        {
          "output_type": "execute_result",
          "data": {
            "text/plain": [
              "(150, 4)"
            ]
          },
          "metadata": {
            "tags": []
          },
          "execution_count": 18
        }
      ]
    },
    {
      "cell_type": "markdown",
      "metadata": {
        "id": "jMOuXGoMd3xf"
      },
      "source": [
        "since it is a numpy array, do not confuse it to be pandas dataframe and apply head, tail etc functions. \n",
        "\n",
        "Retrieving first five records"
      ]
    },
    {
      "cell_type": "code",
      "metadata": {
        "id": "7Xddd0ykdi0p",
        "colab": {
          "base_uri": "https://localhost:8080/"
        },
        "outputId": "c1471688-954a-4610-a046-41936a0d08e8"
      },
      "source": [
        "iris['data'][:5]"
      ],
      "execution_count": 19,
      "outputs": [
        {
          "output_type": "execute_result",
          "data": {
            "text/plain": [
              "array([[5.1, 3.5, 1.4, 0.2],\n",
              "       [4.9, 3. , 1.4, 0.2],\n",
              "       [4.7, 3.2, 1.3, 0.2],\n",
              "       [4.6, 3.1, 1.5, 0.2],\n",
              "       [5. , 3.6, 1.4, 0.2]])"
            ]
          },
          "metadata": {
            "tags": []
          },
          "execution_count": 19
        }
      ]
    },
    {
      "cell_type": "code",
      "metadata": {
        "id": "WwsT-uGhdixu",
        "colab": {
          "base_uri": "https://localhost:8080/"
        },
        "outputId": "78709dd1-9878-4cda-f5e3-45f191acfb2d"
      },
      "source": [
        "iris['target'] #gives target classes classified as dummy variables\n",
        "               # 0 = setosa, 1=versicolor, 2=virginica"
      ],
      "execution_count": 20,
      "outputs": [
        {
          "output_type": "execute_result",
          "data": {
            "text/plain": [
              "array([0, 0, 0, 0, 0, 0, 0, 0, 0, 0, 0, 0, 0, 0, 0, 0, 0, 0, 0, 0, 0, 0,\n",
              "       0, 0, 0, 0, 0, 0, 0, 0, 0, 0, 0, 0, 0, 0, 0, 0, 0, 0, 0, 0, 0, 0,\n",
              "       0, 0, 0, 0, 0, 0, 1, 1, 1, 1, 1, 1, 1, 1, 1, 1, 1, 1, 1, 1, 1, 1,\n",
              "       1, 1, 1, 1, 1, 1, 1, 1, 1, 1, 1, 1, 1, 1, 1, 1, 1, 1, 1, 1, 1, 1,\n",
              "       1, 1, 1, 1, 1, 1, 1, 1, 1, 1, 1, 1, 2, 2, 2, 2, 2, 2, 2, 2, 2, 2,\n",
              "       2, 2, 2, 2, 2, 2, 2, 2, 2, 2, 2, 2, 2, 2, 2, 2, 2, 2, 2, 2, 2, 2,\n",
              "       2, 2, 2, 2, 2, 2, 2, 2, 2, 2, 2, 2, 2, 2, 2, 2, 2, 2])"
            ]
          },
          "metadata": {
            "tags": []
          },
          "execution_count": 20
        }
      ]
    },
    {
      "cell_type": "markdown",
      "metadata": {
        "id": "BsVPeNOM8aS4"
      },
      "source": [
        "\n",
        "\n",
        "---\n",
        "## OBTAINING TWO CLASSES TARGET VARIABLE TO CONDUCT SVM\n"
      ]
    },
    {
      "cell_type": "markdown",
      "metadata": {
        "id": "X-EtvJI49FWK"
      },
      "source": [
        "we will repeat the codes once again on \n",
        "- importing data\n",
        "- loading iris pre-built dataset using sklearn\n",
        "- segregating columns (features and target) as desirable"
      ]
    },
    {
      "cell_type": "code",
      "metadata": {
        "id": "MQL_TGa4o4Fj"
      },
      "source": [
        "import pandas as pd\n",
        "from sklearn.datasets import load_iris     #importing the pre-buit dataset\n",
        "iris=load_iris()"
      ],
      "execution_count": 21,
      "outputs": []
    },
    {
      "cell_type": "code",
      "metadata": {
        "id": "Fqa_u4A38n6H",
        "colab": {
          "base_uri": "https://localhost:8080/"
        },
        "outputId": "7be7c702-568b-4b89-f8ac-9ed453bdd9e6"
      },
      "source": [
        "dir(iris) #provides directory "
      ],
      "execution_count": 22,
      "outputs": [
        {
          "output_type": "execute_result",
          "data": {
            "text/plain": [
              "['DESCR', 'data', 'feature_names', 'filename', 'target', 'target_names']"
            ]
          },
          "metadata": {
            "tags": []
          },
          "execution_count": 22
        }
      ]
    },
    {
      "cell_type": "code",
      "metadata": {
        "id": "3a_D9lzD8n0p",
        "colab": {
          "base_uri": "https://localhost:8080/"
        },
        "outputId": "8d7fd057-b729-4b74-e6de-6d67340d5ced"
      },
      "source": [
        "iris.keys() # provides all the key names"
      ],
      "execution_count": 23,
      "outputs": [
        {
          "output_type": "execute_result",
          "data": {
            "text/plain": [
              "dict_keys(['data', 'target', 'target_names', 'DESCR', 'feature_names', 'filename'])"
            ]
          },
          "metadata": {
            "tags": []
          },
          "execution_count": 23
        }
      ]
    },
    {
      "cell_type": "markdown",
      "metadata": {
        "id": "QqSvqNyV-2MD"
      },
      "source": [
        "If we copy the iris.csv using pandas, the data will be in dataframe format. But, the pre-built iris dataset is not a dataframe. So, we will create the dataframe of iris dataset"
      ]
    },
    {
      "cell_type": "markdown",
      "metadata": {
        "id": "be8u0iST_XSa"
      },
      "source": [
        " \n",
        "\n",
        "---\n",
        "First import the data using pandas and look at the data\n"
      ]
    },
    {
      "cell_type": "code",
      "metadata": {
        "id": "rW6a76V78ndb"
      },
      "source": [
        "df=pd.DataFrame(iris.data, columns=iris.feature_names)  #we will combine feature data and feature column names together"
      ],
      "execution_count": 24,
      "outputs": []
    },
    {
      "cell_type": "code",
      "metadata": {
        "id": "wl_AfpGk8nYK",
        "colab": {
          "base_uri": "https://localhost:8080/",
          "height": 195
        },
        "outputId": "a711fabd-0895-4c8d-f590-ec536ee6d3c9"
      },
      "source": [
        "df.head()  # this dataframe has only feature names and data (target variable is still not included)"
      ],
      "execution_count": 25,
      "outputs": [
        {
          "output_type": "execute_result",
          "data": {
            "text/html": [
              "<div>\n",
              "<style scoped>\n",
              "    .dataframe tbody tr th:only-of-type {\n",
              "        vertical-align: middle;\n",
              "    }\n",
              "\n",
              "    .dataframe tbody tr th {\n",
              "        vertical-align: top;\n",
              "    }\n",
              "\n",
              "    .dataframe thead th {\n",
              "        text-align: right;\n",
              "    }\n",
              "</style>\n",
              "<table border=\"1\" class=\"dataframe\">\n",
              "  <thead>\n",
              "    <tr style=\"text-align: right;\">\n",
              "      <th></th>\n",
              "      <th>sepal length (cm)</th>\n",
              "      <th>sepal width (cm)</th>\n",
              "      <th>petal length (cm)</th>\n",
              "      <th>petal width (cm)</th>\n",
              "    </tr>\n",
              "  </thead>\n",
              "  <tbody>\n",
              "    <tr>\n",
              "      <th>0</th>\n",
              "      <td>5.1</td>\n",
              "      <td>3.5</td>\n",
              "      <td>1.4</td>\n",
              "      <td>0.2</td>\n",
              "    </tr>\n",
              "    <tr>\n",
              "      <th>1</th>\n",
              "      <td>4.9</td>\n",
              "      <td>3.0</td>\n",
              "      <td>1.4</td>\n",
              "      <td>0.2</td>\n",
              "    </tr>\n",
              "    <tr>\n",
              "      <th>2</th>\n",
              "      <td>4.7</td>\n",
              "      <td>3.2</td>\n",
              "      <td>1.3</td>\n",
              "      <td>0.2</td>\n",
              "    </tr>\n",
              "    <tr>\n",
              "      <th>3</th>\n",
              "      <td>4.6</td>\n",
              "      <td>3.1</td>\n",
              "      <td>1.5</td>\n",
              "      <td>0.2</td>\n",
              "    </tr>\n",
              "    <tr>\n",
              "      <th>4</th>\n",
              "      <td>5.0</td>\n",
              "      <td>3.6</td>\n",
              "      <td>1.4</td>\n",
              "      <td>0.2</td>\n",
              "    </tr>\n",
              "  </tbody>\n",
              "</table>\n",
              "</div>"
            ],
            "text/plain": [
              "   sepal length (cm)  sepal width (cm)  petal length (cm)  petal width (cm)\n",
              "0                5.1               3.5                1.4               0.2\n",
              "1                4.9               3.0                1.4               0.2\n",
              "2                4.7               3.2                1.3               0.2\n",
              "3                4.6               3.1                1.5               0.2\n",
              "4                5.0               3.6                1.4               0.2"
            ]
          },
          "metadata": {
            "tags": []
          },
          "execution_count": 25
        }
      ]
    },
    {
      "cell_type": "markdown",
      "metadata": {
        "id": "FV725Ct4BVz_"
      },
      "source": [
        "\n",
        "\n",
        "---\n",
        "We will append the target variable data and target_name into the dataframe created above (df)\n"
      ]
    },
    {
      "cell_type": "code",
      "metadata": {
        "id": "Pj5AmnxZBM0b"
      },
      "source": [
        "df['target']=iris.target"
      ],
      "execution_count": 26,
      "outputs": []
    },
    {
      "cell_type": "code",
      "metadata": {
        "id": "C1H9mvvjBMqy",
        "colab": {
          "base_uri": "https://localhost:8080/",
          "height": 195
        },
        "outputId": "d3d96ca0-7836-4b3e-dd1f-95557918e449"
      },
      "source": [
        "df.head() #notice this data is now similar to what we had got importing data from csv using pandas library"
      ],
      "execution_count": 27,
      "outputs": [
        {
          "output_type": "execute_result",
          "data": {
            "text/html": [
              "<div>\n",
              "<style scoped>\n",
              "    .dataframe tbody tr th:only-of-type {\n",
              "        vertical-align: middle;\n",
              "    }\n",
              "\n",
              "    .dataframe tbody tr th {\n",
              "        vertical-align: top;\n",
              "    }\n",
              "\n",
              "    .dataframe thead th {\n",
              "        text-align: right;\n",
              "    }\n",
              "</style>\n",
              "<table border=\"1\" class=\"dataframe\">\n",
              "  <thead>\n",
              "    <tr style=\"text-align: right;\">\n",
              "      <th></th>\n",
              "      <th>sepal length (cm)</th>\n",
              "      <th>sepal width (cm)</th>\n",
              "      <th>petal length (cm)</th>\n",
              "      <th>petal width (cm)</th>\n",
              "      <th>target</th>\n",
              "    </tr>\n",
              "  </thead>\n",
              "  <tbody>\n",
              "    <tr>\n",
              "      <th>0</th>\n",
              "      <td>5.1</td>\n",
              "      <td>3.5</td>\n",
              "      <td>1.4</td>\n",
              "      <td>0.2</td>\n",
              "      <td>0</td>\n",
              "    </tr>\n",
              "    <tr>\n",
              "      <th>1</th>\n",
              "      <td>4.9</td>\n",
              "      <td>3.0</td>\n",
              "      <td>1.4</td>\n",
              "      <td>0.2</td>\n",
              "      <td>0</td>\n",
              "    </tr>\n",
              "    <tr>\n",
              "      <th>2</th>\n",
              "      <td>4.7</td>\n",
              "      <td>3.2</td>\n",
              "      <td>1.3</td>\n",
              "      <td>0.2</td>\n",
              "      <td>0</td>\n",
              "    </tr>\n",
              "    <tr>\n",
              "      <th>3</th>\n",
              "      <td>4.6</td>\n",
              "      <td>3.1</td>\n",
              "      <td>1.5</td>\n",
              "      <td>0.2</td>\n",
              "      <td>0</td>\n",
              "    </tr>\n",
              "    <tr>\n",
              "      <th>4</th>\n",
              "      <td>5.0</td>\n",
              "      <td>3.6</td>\n",
              "      <td>1.4</td>\n",
              "      <td>0.2</td>\n",
              "      <td>0</td>\n",
              "    </tr>\n",
              "  </tbody>\n",
              "</table>\n",
              "</div>"
            ],
            "text/plain": [
              "   sepal length (cm)  sepal width (cm)  ...  petal width (cm)  target\n",
              "0                5.1               3.5  ...               0.2       0\n",
              "1                4.9               3.0  ...               0.2       0\n",
              "2                4.7               3.2  ...               0.2       0\n",
              "3                4.6               3.1  ...               0.2       0\n",
              "4                5.0               3.6  ...               0.2       0\n",
              "\n",
              "[5 rows x 5 columns]"
            ]
          },
          "metadata": {
            "tags": []
          },
          "execution_count": 27
        }
      ]
    },
    {
      "cell_type": "code",
      "metadata": {
        "id": "8dclmmIfBMov",
        "colab": {
          "base_uri": "https://localhost:8080/"
        },
        "outputId": "19dcb713-535a-4b67-fbc3-1b1fd5ef95f7"
      },
      "source": [
        "df.dtypes"
      ],
      "execution_count": 28,
      "outputs": [
        {
          "output_type": "execute_result",
          "data": {
            "text/plain": [
              "sepal length (cm)    float64\n",
              "sepal width (cm)     float64\n",
              "petal length (cm)    float64\n",
              "petal width (cm)     float64\n",
              "target                 int64\n",
              "dtype: object"
            ]
          },
          "metadata": {
            "tags": []
          },
          "execution_count": 28
        }
      ]
    },
    {
      "cell_type": "code",
      "metadata": {
        "id": "Lm2Nq9m-BMmj",
        "colab": {
          "base_uri": "https://localhost:8080/"
        },
        "outputId": "7d6d8f18-58c1-4334-a6cd-9503cec959a6"
      },
      "source": [
        "df['target'].value_counts() # notice there are 50 records for each class of target variable"
      ],
      "execution_count": 29,
      "outputs": [
        {
          "output_type": "execute_result",
          "data": {
            "text/plain": [
              "2    50\n",
              "1    50\n",
              "0    50\n",
              "Name: target, dtype: int64"
            ]
          },
          "metadata": {
            "tags": []
          },
          "execution_count": 29
        }
      ]
    },
    {
      "cell_type": "markdown",
      "metadata": {
        "id": "m6av3UAECpxf"
      },
      "source": [
        "\n",
        "\n",
        "---\n",
        "We can examine observations belonging to each class\n",
        "\n",
        "\n",
        "---\n",
        "\n",
        "\n",
        "\n",
        "---\n",
        "\n",
        "\n"
      ]
    },
    {
      "cell_type": "code",
      "metadata": {
        "id": "jrUb13WVDMPB",
        "colab": {
          "base_uri": "https://localhost:8080/",
          "height": 195
        },
        "outputId": "3e7749ad-46a5-4353-d956-af6f32e254ad"
      },
      "source": [
        "df[df.target==0].head() # all setosa flowers and the associated features are in the beginning (1-50)"
      ],
      "execution_count": 30,
      "outputs": [
        {
          "output_type": "execute_result",
          "data": {
            "text/html": [
              "<div>\n",
              "<style scoped>\n",
              "    .dataframe tbody tr th:only-of-type {\n",
              "        vertical-align: middle;\n",
              "    }\n",
              "\n",
              "    .dataframe tbody tr th {\n",
              "        vertical-align: top;\n",
              "    }\n",
              "\n",
              "    .dataframe thead th {\n",
              "        text-align: right;\n",
              "    }\n",
              "</style>\n",
              "<table border=\"1\" class=\"dataframe\">\n",
              "  <thead>\n",
              "    <tr style=\"text-align: right;\">\n",
              "      <th></th>\n",
              "      <th>sepal length (cm)</th>\n",
              "      <th>sepal width (cm)</th>\n",
              "      <th>petal length (cm)</th>\n",
              "      <th>petal width (cm)</th>\n",
              "      <th>target</th>\n",
              "    </tr>\n",
              "  </thead>\n",
              "  <tbody>\n",
              "    <tr>\n",
              "      <th>0</th>\n",
              "      <td>5.1</td>\n",
              "      <td>3.5</td>\n",
              "      <td>1.4</td>\n",
              "      <td>0.2</td>\n",
              "      <td>0</td>\n",
              "    </tr>\n",
              "    <tr>\n",
              "      <th>1</th>\n",
              "      <td>4.9</td>\n",
              "      <td>3.0</td>\n",
              "      <td>1.4</td>\n",
              "      <td>0.2</td>\n",
              "      <td>0</td>\n",
              "    </tr>\n",
              "    <tr>\n",
              "      <th>2</th>\n",
              "      <td>4.7</td>\n",
              "      <td>3.2</td>\n",
              "      <td>1.3</td>\n",
              "      <td>0.2</td>\n",
              "      <td>0</td>\n",
              "    </tr>\n",
              "    <tr>\n",
              "      <th>3</th>\n",
              "      <td>4.6</td>\n",
              "      <td>3.1</td>\n",
              "      <td>1.5</td>\n",
              "      <td>0.2</td>\n",
              "      <td>0</td>\n",
              "    </tr>\n",
              "    <tr>\n",
              "      <th>4</th>\n",
              "      <td>5.0</td>\n",
              "      <td>3.6</td>\n",
              "      <td>1.4</td>\n",
              "      <td>0.2</td>\n",
              "      <td>0</td>\n",
              "    </tr>\n",
              "  </tbody>\n",
              "</table>\n",
              "</div>"
            ],
            "text/plain": [
              "   sepal length (cm)  sepal width (cm)  ...  petal width (cm)  target\n",
              "0                5.1               3.5  ...               0.2       0\n",
              "1                4.9               3.0  ...               0.2       0\n",
              "2                4.7               3.2  ...               0.2       0\n",
              "3                4.6               3.1  ...               0.2       0\n",
              "4                5.0               3.6  ...               0.2       0\n",
              "\n",
              "[5 rows x 5 columns]"
            ]
          },
          "metadata": {
            "tags": []
          },
          "execution_count": 30
        }
      ]
    },
    {
      "cell_type": "code",
      "metadata": {
        "id": "KrLXaO_OBMhX",
        "colab": {
          "base_uri": "https://localhost:8080/",
          "height": 195
        },
        "outputId": "057300cc-ed68-4bb5-e9c0-8a5a2af90daf"
      },
      "source": [
        "df[df.target==1].head()  # all versicolor flowers and their features  (from index number 50-99)"
      ],
      "execution_count": 31,
      "outputs": [
        {
          "output_type": "execute_result",
          "data": {
            "text/html": [
              "<div>\n",
              "<style scoped>\n",
              "    .dataframe tbody tr th:only-of-type {\n",
              "        vertical-align: middle;\n",
              "    }\n",
              "\n",
              "    .dataframe tbody tr th {\n",
              "        vertical-align: top;\n",
              "    }\n",
              "\n",
              "    .dataframe thead th {\n",
              "        text-align: right;\n",
              "    }\n",
              "</style>\n",
              "<table border=\"1\" class=\"dataframe\">\n",
              "  <thead>\n",
              "    <tr style=\"text-align: right;\">\n",
              "      <th></th>\n",
              "      <th>sepal length (cm)</th>\n",
              "      <th>sepal width (cm)</th>\n",
              "      <th>petal length (cm)</th>\n",
              "      <th>petal width (cm)</th>\n",
              "      <th>target</th>\n",
              "    </tr>\n",
              "  </thead>\n",
              "  <tbody>\n",
              "    <tr>\n",
              "      <th>50</th>\n",
              "      <td>7.0</td>\n",
              "      <td>3.2</td>\n",
              "      <td>4.7</td>\n",
              "      <td>1.4</td>\n",
              "      <td>1</td>\n",
              "    </tr>\n",
              "    <tr>\n",
              "      <th>51</th>\n",
              "      <td>6.4</td>\n",
              "      <td>3.2</td>\n",
              "      <td>4.5</td>\n",
              "      <td>1.5</td>\n",
              "      <td>1</td>\n",
              "    </tr>\n",
              "    <tr>\n",
              "      <th>52</th>\n",
              "      <td>6.9</td>\n",
              "      <td>3.1</td>\n",
              "      <td>4.9</td>\n",
              "      <td>1.5</td>\n",
              "      <td>1</td>\n",
              "    </tr>\n",
              "    <tr>\n",
              "      <th>53</th>\n",
              "      <td>5.5</td>\n",
              "      <td>2.3</td>\n",
              "      <td>4.0</td>\n",
              "      <td>1.3</td>\n",
              "      <td>1</td>\n",
              "    </tr>\n",
              "    <tr>\n",
              "      <th>54</th>\n",
              "      <td>6.5</td>\n",
              "      <td>2.8</td>\n",
              "      <td>4.6</td>\n",
              "      <td>1.5</td>\n",
              "      <td>1</td>\n",
              "    </tr>\n",
              "  </tbody>\n",
              "</table>\n",
              "</div>"
            ],
            "text/plain": [
              "    sepal length (cm)  sepal width (cm)  ...  petal width (cm)  target\n",
              "50                7.0               3.2  ...               1.4       1\n",
              "51                6.4               3.2  ...               1.5       1\n",
              "52                6.9               3.1  ...               1.5       1\n",
              "53                5.5               2.3  ...               1.3       1\n",
              "54                6.5               2.8  ...               1.5       1\n",
              "\n",
              "[5 rows x 5 columns]"
            ]
          },
          "metadata": {
            "tags": []
          },
          "execution_count": 31
        }
      ]
    },
    {
      "cell_type": "code",
      "metadata": {
        "id": "dAYm-5JQBMV0",
        "colab": {
          "base_uri": "https://localhost:8080/",
          "height": 195
        },
        "outputId": "799d7511-ef02-461b-9f0c-7b187a2213c7"
      },
      "source": [
        "df[df.target==2].head()  # all  virginica flowers and their features  (from index number 100-149)"
      ],
      "execution_count": 32,
      "outputs": [
        {
          "output_type": "execute_result",
          "data": {
            "text/html": [
              "<div>\n",
              "<style scoped>\n",
              "    .dataframe tbody tr th:only-of-type {\n",
              "        vertical-align: middle;\n",
              "    }\n",
              "\n",
              "    .dataframe tbody tr th {\n",
              "        vertical-align: top;\n",
              "    }\n",
              "\n",
              "    .dataframe thead th {\n",
              "        text-align: right;\n",
              "    }\n",
              "</style>\n",
              "<table border=\"1\" class=\"dataframe\">\n",
              "  <thead>\n",
              "    <tr style=\"text-align: right;\">\n",
              "      <th></th>\n",
              "      <th>sepal length (cm)</th>\n",
              "      <th>sepal width (cm)</th>\n",
              "      <th>petal length (cm)</th>\n",
              "      <th>petal width (cm)</th>\n",
              "      <th>target</th>\n",
              "    </tr>\n",
              "  </thead>\n",
              "  <tbody>\n",
              "    <tr>\n",
              "      <th>100</th>\n",
              "      <td>6.3</td>\n",
              "      <td>3.3</td>\n",
              "      <td>6.0</td>\n",
              "      <td>2.5</td>\n",
              "      <td>2</td>\n",
              "    </tr>\n",
              "    <tr>\n",
              "      <th>101</th>\n",
              "      <td>5.8</td>\n",
              "      <td>2.7</td>\n",
              "      <td>5.1</td>\n",
              "      <td>1.9</td>\n",
              "      <td>2</td>\n",
              "    </tr>\n",
              "    <tr>\n",
              "      <th>102</th>\n",
              "      <td>7.1</td>\n",
              "      <td>3.0</td>\n",
              "      <td>5.9</td>\n",
              "      <td>2.1</td>\n",
              "      <td>2</td>\n",
              "    </tr>\n",
              "    <tr>\n",
              "      <th>103</th>\n",
              "      <td>6.3</td>\n",
              "      <td>2.9</td>\n",
              "      <td>5.6</td>\n",
              "      <td>1.8</td>\n",
              "      <td>2</td>\n",
              "    </tr>\n",
              "    <tr>\n",
              "      <th>104</th>\n",
              "      <td>6.5</td>\n",
              "      <td>3.0</td>\n",
              "      <td>5.8</td>\n",
              "      <td>2.2</td>\n",
              "      <td>2</td>\n",
              "    </tr>\n",
              "  </tbody>\n",
              "</table>\n",
              "</div>"
            ],
            "text/plain": [
              "     sepal length (cm)  sepal width (cm)  ...  petal width (cm)  target\n",
              "100                6.3               3.3  ...               2.5       2\n",
              "101                5.8               2.7  ...               1.9       2\n",
              "102                7.1               3.0  ...               2.1       2\n",
              "103                6.3               2.9  ...               1.8       2\n",
              "104                6.5               3.0  ...               2.2       2\n",
              "\n",
              "[5 rows x 5 columns]"
            ]
          },
          "metadata": {
            "tags": []
          },
          "execution_count": 32
        }
      ]
    },
    {
      "cell_type": "markdown",
      "metadata": {
        "id": "SW5PJ9VqEg1Y"
      },
      "source": [
        "## CREATING A NEW COLUMN FROM PRE-EXISTING COLUMN USING APPLY AND LAMBDA \n",
        "\n",
        "- LAMBDA is a small function or transformation that is applied on target column to generate the new column called 'species_name'\n",
        "\n",
        "\n",
        "\n",
        "---\n",
        "NOTE: when iris.csv was imported, target variable already had the species name. For pre-built dataset we are just using tranformation to get those names\n"
      ]
    },
    {
      "cell_type": "code",
      "metadata": {
        "id": "AoN7Y3KyG9pc",
        "colab": {
          "base_uri": "https://localhost:8080/"
        },
        "outputId": "ab322e09-1a73-43e7-a16a-129404cc8d37"
      },
      "source": [
        "iris.target_names"
      ],
      "execution_count": 33,
      "outputs": [
        {
          "output_type": "execute_result",
          "data": {
            "text/plain": [
              "array(['setosa', 'versicolor', 'virginica'], dtype='<U10')"
            ]
          },
          "metadata": {
            "tags": []
          },
          "execution_count": 33
        }
      ]
    },
    {
      "cell_type": "markdown",
      "metadata": {
        "id": "Mienia4XHJqO"
      },
      "source": [
        "Notice: the target names output is an array with\n",
        "*  0= setosa\n",
        "*  1= versicolor\n",
        "*  2 = virginica\n",
        "\n",
        "Using lambda function, we want to replace value of 'x' with numbers 0,1,2 with respective names"
      ]
    },
    {
      "cell_type": "code",
      "metadata": {
        "id": "PETWlX4GEgIc"
      },
      "source": [
        "df['species_name']=df.target.apply(lambda x: iris.target_names) \n",
        "                       #notice this code assign all species names to each column"
      ],
      "execution_count": 34,
      "outputs": []
    },
    {
      "cell_type": "code",
      "metadata": {
        "id": "JzRZW2bcGMwk",
        "colab": {
          "base_uri": "https://localhost:8080/",
          "height": 195
        },
        "outputId": "23c6ac5c-3c72-4ab0-fd94-db026c4d7f34"
      },
      "source": [
        "df.head()  # the species_name column has all names. By subsetting the 'x' value in lambda, we are tranforming"
      ],
      "execution_count": 35,
      "outputs": [
        {
          "output_type": "execute_result",
          "data": {
            "text/html": [
              "<div>\n",
              "<style scoped>\n",
              "    .dataframe tbody tr th:only-of-type {\n",
              "        vertical-align: middle;\n",
              "    }\n",
              "\n",
              "    .dataframe tbody tr th {\n",
              "        vertical-align: top;\n",
              "    }\n",
              "\n",
              "    .dataframe thead th {\n",
              "        text-align: right;\n",
              "    }\n",
              "</style>\n",
              "<table border=\"1\" class=\"dataframe\">\n",
              "  <thead>\n",
              "    <tr style=\"text-align: right;\">\n",
              "      <th></th>\n",
              "      <th>sepal length (cm)</th>\n",
              "      <th>sepal width (cm)</th>\n",
              "      <th>petal length (cm)</th>\n",
              "      <th>petal width (cm)</th>\n",
              "      <th>target</th>\n",
              "      <th>species_name</th>\n",
              "    </tr>\n",
              "  </thead>\n",
              "  <tbody>\n",
              "    <tr>\n",
              "      <th>0</th>\n",
              "      <td>5.1</td>\n",
              "      <td>3.5</td>\n",
              "      <td>1.4</td>\n",
              "      <td>0.2</td>\n",
              "      <td>0</td>\n",
              "      <td>[setosa, versicolor, virginica]</td>\n",
              "    </tr>\n",
              "    <tr>\n",
              "      <th>1</th>\n",
              "      <td>4.9</td>\n",
              "      <td>3.0</td>\n",
              "      <td>1.4</td>\n",
              "      <td>0.2</td>\n",
              "      <td>0</td>\n",
              "      <td>[setosa, versicolor, virginica]</td>\n",
              "    </tr>\n",
              "    <tr>\n",
              "      <th>2</th>\n",
              "      <td>4.7</td>\n",
              "      <td>3.2</td>\n",
              "      <td>1.3</td>\n",
              "      <td>0.2</td>\n",
              "      <td>0</td>\n",
              "      <td>[setosa, versicolor, virginica]</td>\n",
              "    </tr>\n",
              "    <tr>\n",
              "      <th>3</th>\n",
              "      <td>4.6</td>\n",
              "      <td>3.1</td>\n",
              "      <td>1.5</td>\n",
              "      <td>0.2</td>\n",
              "      <td>0</td>\n",
              "      <td>[setosa, versicolor, virginica]</td>\n",
              "    </tr>\n",
              "    <tr>\n",
              "      <th>4</th>\n",
              "      <td>5.0</td>\n",
              "      <td>3.6</td>\n",
              "      <td>1.4</td>\n",
              "      <td>0.2</td>\n",
              "      <td>0</td>\n",
              "      <td>[setosa, versicolor, virginica]</td>\n",
              "    </tr>\n",
              "  </tbody>\n",
              "</table>\n",
              "</div>"
            ],
            "text/plain": [
              "   sepal length (cm)  sepal width (cm)  ...  target                     species_name\n",
              "0                5.1               3.5  ...       0  [setosa, versicolor, virginica]\n",
              "1                4.9               3.0  ...       0  [setosa, versicolor, virginica]\n",
              "2                4.7               3.2  ...       0  [setosa, versicolor, virginica]\n",
              "3                4.6               3.1  ...       0  [setosa, versicolor, virginica]\n",
              "4                5.0               3.6  ...       0  [setosa, versicolor, virginica]\n",
              "\n",
              "[5 rows x 6 columns]"
            ]
          },
          "metadata": {
            "tags": []
          },
          "execution_count": 35
        }
      ]
    },
    {
      "cell_type": "code",
      "metadata": {
        "id": "n91faRC5EgFZ"
      },
      "source": [
        "df['species_name']=df.target.apply(lambda x: iris.target_names[x]) "
      ],
      "execution_count": 36,
      "outputs": []
    },
    {
      "cell_type": "code",
      "metadata": {
        "id": "9ASMkzilEgBd",
        "colab": {
          "base_uri": "https://localhost:8080/",
          "height": 195
        },
        "outputId": "f82dac0f-5305-4fef-b225-1b8aeac5017b"
      },
      "source": [
        "df.head() #now species names are correct"
      ],
      "execution_count": 37,
      "outputs": [
        {
          "output_type": "execute_result",
          "data": {
            "text/html": [
              "<div>\n",
              "<style scoped>\n",
              "    .dataframe tbody tr th:only-of-type {\n",
              "        vertical-align: middle;\n",
              "    }\n",
              "\n",
              "    .dataframe tbody tr th {\n",
              "        vertical-align: top;\n",
              "    }\n",
              "\n",
              "    .dataframe thead th {\n",
              "        text-align: right;\n",
              "    }\n",
              "</style>\n",
              "<table border=\"1\" class=\"dataframe\">\n",
              "  <thead>\n",
              "    <tr style=\"text-align: right;\">\n",
              "      <th></th>\n",
              "      <th>sepal length (cm)</th>\n",
              "      <th>sepal width (cm)</th>\n",
              "      <th>petal length (cm)</th>\n",
              "      <th>petal width (cm)</th>\n",
              "      <th>target</th>\n",
              "      <th>species_name</th>\n",
              "    </tr>\n",
              "  </thead>\n",
              "  <tbody>\n",
              "    <tr>\n",
              "      <th>0</th>\n",
              "      <td>5.1</td>\n",
              "      <td>3.5</td>\n",
              "      <td>1.4</td>\n",
              "      <td>0.2</td>\n",
              "      <td>0</td>\n",
              "      <td>setosa</td>\n",
              "    </tr>\n",
              "    <tr>\n",
              "      <th>1</th>\n",
              "      <td>4.9</td>\n",
              "      <td>3.0</td>\n",
              "      <td>1.4</td>\n",
              "      <td>0.2</td>\n",
              "      <td>0</td>\n",
              "      <td>setosa</td>\n",
              "    </tr>\n",
              "    <tr>\n",
              "      <th>2</th>\n",
              "      <td>4.7</td>\n",
              "      <td>3.2</td>\n",
              "      <td>1.3</td>\n",
              "      <td>0.2</td>\n",
              "      <td>0</td>\n",
              "      <td>setosa</td>\n",
              "    </tr>\n",
              "    <tr>\n",
              "      <th>3</th>\n",
              "      <td>4.6</td>\n",
              "      <td>3.1</td>\n",
              "      <td>1.5</td>\n",
              "      <td>0.2</td>\n",
              "      <td>0</td>\n",
              "      <td>setosa</td>\n",
              "    </tr>\n",
              "    <tr>\n",
              "      <th>4</th>\n",
              "      <td>5.0</td>\n",
              "      <td>3.6</td>\n",
              "      <td>1.4</td>\n",
              "      <td>0.2</td>\n",
              "      <td>0</td>\n",
              "      <td>setosa</td>\n",
              "    </tr>\n",
              "  </tbody>\n",
              "</table>\n",
              "</div>"
            ],
            "text/plain": [
              "   sepal length (cm)  sepal width (cm)  ...  target  species_name\n",
              "0                5.1               3.5  ...       0        setosa\n",
              "1                4.9               3.0  ...       0        setosa\n",
              "2                4.7               3.2  ...       0        setosa\n",
              "3                4.6               3.1  ...       0        setosa\n",
              "4                5.0               3.6  ...       0        setosa\n",
              "\n",
              "[5 rows x 6 columns]"
            ]
          },
          "metadata": {
            "tags": []
          },
          "execution_count": 37
        }
      ]
    },
    {
      "cell_type": "code",
      "metadata": {
        "id": "nPa66Enpe0St"
      },
      "source": [
        "df=df.drop(\"target\",axis=1)"
      ],
      "execution_count": 44,
      "outputs": []
    },
    {
      "cell_type": "markdown",
      "metadata": {
        "id": "mDX22O6nhb0f"
      },
      "source": [
        "## 2D SCATTERPLOT (WITH HUE)\r\n",
        " with color coding for each flower type/class\r\n",
        "\r\n",
        "We use the seaborn package"
      ]
    },
    {
      "cell_type": "code",
      "metadata": {
        "colab": {
          "base_uri": "https://localhost:8080/",
          "height": 922
        },
        "id": "XdF_15BLeA5T",
        "outputId": "d64eff29-24b6-4d43-c5d4-9eab544ffbb5"
      },
      "source": [
        "sns.set_style('whitegrid');\r\n",
        "sns.pairplot(df,hue='species_name',size=3);\r\n",
        "plt.show()"
      ],
      "execution_count": 45,
      "outputs": [
        {
          "output_type": "stream",
          "text": [
            "/usr/local/lib/python3.6/dist-packages/seaborn/axisgrid.py:1912: UserWarning: The `size` parameter has been renamed to `height`; please update your code.\n",
            "  warnings.warn(msg, UserWarning)\n"
          ],
          "name": "stderr"
        },
        {
          "output_type": "display_data",
          "data": {
            "image/png": "[encoded data removed]",
            "text/plain": [
              "<Figure size 948.75x864 with 20 Axes>"
            ]
          },
          "metadata": {
            "tags": []
          }
        }
      ]
    },
    {
      "cell_type": "markdown",
      "metadata": {
        "id": "58zwTQbiNTCW"
      },
      "source": [
        "Notice that, from the pairwise plot it is clear that, PL AND PW are better features at classifying flower data types"
      ]
    },
    {
      "cell_type": "markdown",
      "metadata": {
        "id": "OvHg9CJv5kSH"
      },
      "source": [
        "NOTE THAT, \n",
        "\n",
        "\n",
        "---\n",
        "\n",
        "\n",
        "IN CASE OF THE SVM, \n",
        "\n",
        "\n",
        "---\n",
        "\n",
        "\n",
        "* WE WILL FIRST CONSIDER ONLY DATA WITH TWO CLASSES AND\n",
        "* WE WILL TRY TO FIT THE BEST FITTED LINE\n",
        "    - LINEAR OR \n",
        "    - NONLINEAR USING TWO FEATURES"
      ]
    },
    {
      "cell_type": "markdown",
      "metadata": {
        "id": "PiEVWKWZH2w6"
      },
      "source": [
        "## SEPERATING SINGLE DATAFRAME INTO THREE DATAFRAMES (WITH EACH CLASS OF SPECIES)\n",
        "\n",
        "---\n",
        "We will now seperate the dataframe into three dataframe each having one class of species\n"
      ]
    },
    {
      "cell_type": "code",
      "metadata": {
        "id": "x80CAh8AEf-U"
      },
      "source": [
        "df0=df[df.species_name==\"setosa\"]  # this is our first dataframe of only setosa species"
      ],
      "execution_count": 48,
      "outputs": []
    },
    {
      "cell_type": "code",
      "metadata": {
        "id": "HLcSP07sBMSL",
        "colab": {
          "base_uri": "https://localhost:8080/",
          "height": 195
        },
        "outputId": "a32af1ef-7433-4a31-eefb-ddac5d29e27f"
      },
      "source": [
        "df0.head()"
      ],
      "execution_count": 49,
      "outputs": [
        {
          "output_type": "execute_result",
          "data": {
            "text/html": [
              "<div>\n",
              "<style scoped>\n",
              "    .dataframe tbody tr th:only-of-type {\n",
              "        vertical-align: middle;\n",
              "    }\n",
              "\n",
              "    .dataframe tbody tr th {\n",
              "        vertical-align: top;\n",
              "    }\n",
              "\n",
              "    .dataframe thead th {\n",
              "        text-align: right;\n",
              "    }\n",
              "</style>\n",
              "<table border=\"1\" class=\"dataframe\">\n",
              "  <thead>\n",
              "    <tr style=\"text-align: right;\">\n",
              "      <th></th>\n",
              "      <th>sepal length (cm)</th>\n",
              "      <th>sepal width (cm)</th>\n",
              "      <th>petal length (cm)</th>\n",
              "      <th>petal width (cm)</th>\n",
              "      <th>species_name</th>\n",
              "    </tr>\n",
              "  </thead>\n",
              "  <tbody>\n",
              "    <tr>\n",
              "      <th>0</th>\n",
              "      <td>5.1</td>\n",
              "      <td>3.5</td>\n",
              "      <td>1.4</td>\n",
              "      <td>0.2</td>\n",
              "      <td>setosa</td>\n",
              "    </tr>\n",
              "    <tr>\n",
              "      <th>1</th>\n",
              "      <td>4.9</td>\n",
              "      <td>3.0</td>\n",
              "      <td>1.4</td>\n",
              "      <td>0.2</td>\n",
              "      <td>setosa</td>\n",
              "    </tr>\n",
              "    <tr>\n",
              "      <th>2</th>\n",
              "      <td>4.7</td>\n",
              "      <td>3.2</td>\n",
              "      <td>1.3</td>\n",
              "      <td>0.2</td>\n",
              "      <td>setosa</td>\n",
              "    </tr>\n",
              "    <tr>\n",
              "      <th>3</th>\n",
              "      <td>4.6</td>\n",
              "      <td>3.1</td>\n",
              "      <td>1.5</td>\n",
              "      <td>0.2</td>\n",
              "      <td>setosa</td>\n",
              "    </tr>\n",
              "    <tr>\n",
              "      <th>4</th>\n",
              "      <td>5.0</td>\n",
              "      <td>3.6</td>\n",
              "      <td>1.4</td>\n",
              "      <td>0.2</td>\n",
              "      <td>setosa</td>\n",
              "    </tr>\n",
              "  </tbody>\n",
              "</table>\n",
              "</div>"
            ],
            "text/plain": [
              "   sepal length (cm)  sepal width (cm)  ...  petal width (cm)  species_name\n",
              "0                5.1               3.5  ...               0.2        setosa\n",
              "1                4.9               3.0  ...               0.2        setosa\n",
              "2                4.7               3.2  ...               0.2        setosa\n",
              "3                4.6               3.1  ...               0.2        setosa\n",
              "4                5.0               3.6  ...               0.2        setosa\n",
              "\n",
              "[5 rows x 5 columns]"
            ]
          },
          "metadata": {
            "tags": []
          },
          "execution_count": 49
        }
      ]
    },
    {
      "cell_type": "code",
      "metadata": {
        "id": "S8SRe6TrImL-"
      },
      "source": [
        "df1=df[df.species_name==\"versicolor\"]  # this is our second dataframe of only versicolor species"
      ],
      "execution_count": 50,
      "outputs": []
    },
    {
      "cell_type": "code",
      "metadata": {
        "id": "TrXuFSxMImIk",
        "colab": {
          "base_uri": "https://localhost:8080/",
          "height": 195
        },
        "outputId": "b1f911cf-64ff-4ab7-df45-99d25d60b9a9"
      },
      "source": [
        "df1.head()"
      ],
      "execution_count": 51,
      "outputs": [
        {
          "output_type": "execute_result",
          "data": {
            "text/html": [
              "<div>\n",
              "<style scoped>\n",
              "    .dataframe tbody tr th:only-of-type {\n",
              "        vertical-align: middle;\n",
              "    }\n",
              "\n",
              "    .dataframe tbody tr th {\n",
              "        vertical-align: top;\n",
              "    }\n",
              "\n",
              "    .dataframe thead th {\n",
              "        text-align: right;\n",
              "    }\n",
              "</style>\n",
              "<table border=\"1\" class=\"dataframe\">\n",
              "  <thead>\n",
              "    <tr style=\"text-align: right;\">\n",
              "      <th></th>\n",
              "      <th>sepal length (cm)</th>\n",
              "      <th>sepal width (cm)</th>\n",
              "      <th>petal length (cm)</th>\n",
              "      <th>petal width (cm)</th>\n",
              "      <th>species_name</th>\n",
              "    </tr>\n",
              "  </thead>\n",
              "  <tbody>\n",
              "    <tr>\n",
              "      <th>50</th>\n",
              "      <td>7.0</td>\n",
              "      <td>3.2</td>\n",
              "      <td>4.7</td>\n",
              "      <td>1.4</td>\n",
              "      <td>versicolor</td>\n",
              "    </tr>\n",
              "    <tr>\n",
              "      <th>51</th>\n",
              "      <td>6.4</td>\n",
              "      <td>3.2</td>\n",
              "      <td>4.5</td>\n",
              "      <td>1.5</td>\n",
              "      <td>versicolor</td>\n",
              "    </tr>\n",
              "    <tr>\n",
              "      <th>52</th>\n",
              "      <td>6.9</td>\n",
              "      <td>3.1</td>\n",
              "      <td>4.9</td>\n",
              "      <td>1.5</td>\n",
              "      <td>versicolor</td>\n",
              "    </tr>\n",
              "    <tr>\n",
              "      <th>53</th>\n",
              "      <td>5.5</td>\n",
              "      <td>2.3</td>\n",
              "      <td>4.0</td>\n",
              "      <td>1.3</td>\n",
              "      <td>versicolor</td>\n",
              "    </tr>\n",
              "    <tr>\n",
              "      <th>54</th>\n",
              "      <td>6.5</td>\n",
              "      <td>2.8</td>\n",
              "      <td>4.6</td>\n",
              "      <td>1.5</td>\n",
              "      <td>versicolor</td>\n",
              "    </tr>\n",
              "  </tbody>\n",
              "</table>\n",
              "</div>"
            ],
            "text/plain": [
              "    sepal length (cm)  sepal width (cm)  ...  petal width (cm)  species_name\n",
              "50                7.0               3.2  ...               1.4    versicolor\n",
              "51                6.4               3.2  ...               1.5    versicolor\n",
              "52                6.9               3.1  ...               1.5    versicolor\n",
              "53                5.5               2.3  ...               1.3    versicolor\n",
              "54                6.5               2.8  ...               1.5    versicolor\n",
              "\n",
              "[5 rows x 5 columns]"
            ]
          },
          "metadata": {
            "tags": []
          },
          "execution_count": 51
        }
      ]
    },
    {
      "cell_type": "code",
      "metadata": {
        "id": "k7iHf-KIImGD"
      },
      "source": [
        "df2=df[df.species_name==\"virginica\"]  # this is our third dataframe of only virginica species"
      ],
      "execution_count": 52,
      "outputs": []
    },
    {
      "cell_type": "code",
      "metadata": {
        "id": "YvEdA8c7ImDl",
        "colab": {
          "base_uri": "https://localhost:8080/",
          "height": 195
        },
        "outputId": "cd7e2ee5-30fb-4d93-b2ea-cfaf855b5c01"
      },
      "source": [
        "df2.head()"
      ],
      "execution_count": 54,
      "outputs": [
        {
          "output_type": "execute_result",
          "data": {
            "text/html": [
              "<div>\n",
              "<style scoped>\n",
              "    .dataframe tbody tr th:only-of-type {\n",
              "        vertical-align: middle;\n",
              "    }\n",
              "\n",
              "    .dataframe tbody tr th {\n",
              "        vertical-align: top;\n",
              "    }\n",
              "\n",
              "    .dataframe thead th {\n",
              "        text-align: right;\n",
              "    }\n",
              "</style>\n",
              "<table border=\"1\" class=\"dataframe\">\n",
              "  <thead>\n",
              "    <tr style=\"text-align: right;\">\n",
              "      <th></th>\n",
              "      <th>sepal length (cm)</th>\n",
              "      <th>sepal width (cm)</th>\n",
              "      <th>petal length (cm)</th>\n",
              "      <th>petal width (cm)</th>\n",
              "      <th>species_name</th>\n",
              "    </tr>\n",
              "  </thead>\n",
              "  <tbody>\n",
              "    <tr>\n",
              "      <th>100</th>\n",
              "      <td>6.3</td>\n",
              "      <td>3.3</td>\n",
              "      <td>6.0</td>\n",
              "      <td>2.5</td>\n",
              "      <td>virginica</td>\n",
              "    </tr>\n",
              "    <tr>\n",
              "      <th>101</th>\n",
              "      <td>5.8</td>\n",
              "      <td>2.7</td>\n",
              "      <td>5.1</td>\n",
              "      <td>1.9</td>\n",
              "      <td>virginica</td>\n",
              "    </tr>\n",
              "    <tr>\n",
              "      <th>102</th>\n",
              "      <td>7.1</td>\n",
              "      <td>3.0</td>\n",
              "      <td>5.9</td>\n",
              "      <td>2.1</td>\n",
              "      <td>virginica</td>\n",
              "    </tr>\n",
              "    <tr>\n",
              "      <th>103</th>\n",
              "      <td>6.3</td>\n",
              "      <td>2.9</td>\n",
              "      <td>5.6</td>\n",
              "      <td>1.8</td>\n",
              "      <td>virginica</td>\n",
              "    </tr>\n",
              "    <tr>\n",
              "      <th>104</th>\n",
              "      <td>6.5</td>\n",
              "      <td>3.0</td>\n",
              "      <td>5.8</td>\n",
              "      <td>2.2</td>\n",
              "      <td>virginica</td>\n",
              "    </tr>\n",
              "  </tbody>\n",
              "</table>\n",
              "</div>"
            ],
            "text/plain": [
              "     sepal length (cm)  sepal width (cm)  ...  petal width (cm)  species_name\n",
              "100                6.3               3.3  ...               2.5     virginica\n",
              "101                5.8               2.7  ...               1.9     virginica\n",
              "102                7.1               3.0  ...               2.1     virginica\n",
              "103                6.3               2.9  ...               1.8     virginica\n",
              "104                6.5               3.0  ...               2.2     virginica\n",
              "\n",
              "[5 rows x 5 columns]"
            ]
          },
          "metadata": {
            "tags": []
          },
          "execution_count": 54
        }
      ]
    },
    {
      "cell_type": "markdown",
      "metadata": {
        "id": "zFGffrn1JRqE"
      },
      "source": [
        "## SCATTER PLOT FOR TWO CLASSES USING TWO FEATURES"
      ]
    },
    {
      "cell_type": "markdown",
      "metadata": {
        "id": "zoydiyzHKcNG"
      },
      "source": [
        "we will consider two features with one class at a time in scatter\n",
        "\n",
        "- syntax:  plt.scatter(x-axis variable, y-axis variable)\n",
        "- df0 = setosa \n",
        "- df1= versicolor\n",
        "\n",
        "Note: look at the pairplot which we had done in beginning and compare"
      ]
    },
    {
      "cell_type": "code",
      "metadata": {
        "id": "q3erU2XHIl9z",
        "colab": {
          "base_uri": "https://localhost:8080/",
          "height": 300
        },
        "outputId": "a5611791-5cba-49ee-b86e-e1e1c3f5c3cf"
      },
      "source": [
        "\n",
        "plt.scatter(df0['sepal length (cm)'],df0['sepal width (cm)'],color='green',marker='*') #Taking setosa class\n",
        "plt.scatter(df1['sepal length (cm)'],df1['sepal width (cm)'],color='blue',marker='+')  #Taking versicolor\n",
        "plt.xlabel('sepal length')\n",
        "plt.ylabel('sepal width')"
      ],
      "execution_count": 55,
      "outputs": [
        {
          "output_type": "execute_result",
          "data": {
            "text/plain": [
              "Text(0, 0.5, 'sepal width')"
            ]
          },
          "metadata": {
            "tags": []
          },
          "execution_count": 55
        },
        {
          "output_type": "display_data",
          "data": {
            "image/png": "[encoded data removed]",
            "text/plain": [
              "<Figure size 432x288 with 1 Axes>"
            ]
          },
          "metadata": {
            "tags": []
          }
        }
      ]
    },
    {
      "cell_type": "markdown",
      "metadata": {
        "id": "PCxQAoVuKSjd"
      },
      "source": [
        "we will now consider two features(Petal length and Petal width) with one class at a time in scatter\n",
        "\n",
        "- syntax:  plt.scatter(x-axis variable, y-axis variable)\n",
        "- df0 = setosa \n",
        "- df1= versicolor\n",
        "\n",
        "Note: look at the pairplot which we had done in beginning and compare"
      ]
    },
    {
      "cell_type": "code",
      "metadata": {
        "id": "fE-suoT_Jy2q",
        "colab": {
          "base_uri": "https://localhost:8080/",
          "height": 297
        },
        "outputId": "d3f6e45d-63aa-4c64-d5bd-ce3d86ef1ad7"
      },
      "source": [
        "plt.scatter(df0['petal length (cm)'],df0['petal width (cm)'],color='green',marker='*') #Taking setosa class\n",
        "plt.scatter(df1['petal length (cm)'],df1['petal width (cm)'],color='blue',marker='+')  #Taking versicolor\n",
        "plt.xlabel('petal length')\n",
        "plt.ylabel('petal width')"
      ],
      "execution_count": 56,
      "outputs": [
        {
          "output_type": "execute_result",
          "data": {
            "text/plain": [
              "Text(0, 0.5, 'petal width')"
            ]
          },
          "metadata": {
            "tags": []
          },
          "execution_count": 56
        },
        {
          "output_type": "display_data",
          "data": {
            "image/png": "[encoded data removed]",
            "text/plain": [
              "<Figure size 432x288 with 1 Axes>"
            ]
          },
          "metadata": {
            "tags": []
          }
        }
      ]
    },
    {
      "cell_type": "markdown",
      "metadata": {
        "id": "1tEw0oWZK8UI"
      },
      "source": [
        "## TRAINING THE MODEL AND TESTING THE MODEL- SETOSA AND VERSICOLOR \n",
        "- WE WILL SPLIT THE DATA\n",
        "- WE WILL TRAIN THE MODEL (FITTING)\n",
        "- WE WILL PREDICT USING TEST DATASET\n",
        "\n",
        "NOTE: SETOSA AND VERSICOLOR SPECIES CAN BE EASILY SEPERATED BY A LINEAR LINE. SO, there is no need for a non-linear line\n",
        "\n",
        "But, we will consider fitting both linear and non-linear lines "
      ]
    },
    {
      "cell_type": "code",
      "metadata": {
        "id": "rGyQTIU7K7qg"
      },
      "source": [
        "from sklearn.model_selection import train_test_split"
      ],
      "execution_count": 74,
      "outputs": []
    },
    {
      "cell_type": "markdown",
      "metadata": {
        "id": "MfQ-1aa2MUbU"
      },
      "source": [
        "Notice that the, the dataframe 'df' has features and target names together.\n",
        "\n",
        "I want to seperate the two species 'setosa' and 'versicolor' and then apply SVM method using 'petal length' and 'petal width' as features\n",
        "\n",
        "  "
      ]
    },
    {
      "cell_type": "code",
      "metadata": {
        "id": "8DkTE2-wMRd_"
      },
      "source": [
        "df3=[df0,df1]      \n",
        "#create a third dataframe consisting of two setosa and versicolor dataframes. The output is not dataframe"
      ],
      "execution_count": 75,
      "outputs": []
    },
    {
      "cell_type": "code",
      "metadata": {
        "id": "J58Um2VhbOji"
      },
      "source": [
        "df3=pd.concat(df3)  #by concatenating, we are creating a dataframe"
      ],
      "execution_count": 76,
      "outputs": []
    },
    {
      "cell_type": "code",
      "metadata": {
        "id": "9pbqSrRAbu2v",
        "colab": {
          "base_uri": "https://localhost:8080/",
          "height": 0
        },
        "outputId": "12d31214-facb-4e2d-d3cf-36a7dbe890dc"
      },
      "source": [
        "df3"
      ],
      "execution_count": 77,
      "outputs": [
        {
          "output_type": "execute_result",
          "data": {
            "text/html": [
              "<div>\n",
              "<style scoped>\n",
              "    .dataframe tbody tr th:only-of-type {\n",
              "        vertical-align: middle;\n",
              "    }\n",
              "\n",
              "    .dataframe tbody tr th {\n",
              "        vertical-align: top;\n",
              "    }\n",
              "\n",
              "    .dataframe thead th {\n",
              "        text-align: right;\n",
              "    }\n",
              "</style>\n",
              "<table border=\"1\" class=\"dataframe\">\n",
              "  <thead>\n",
              "    <tr style=\"text-align: right;\">\n",
              "      <th></th>\n",
              "      <th>sepal length (cm)</th>\n",
              "      <th>sepal width (cm)</th>\n",
              "      <th>petal length (cm)</th>\n",
              "      <th>petal width (cm)</th>\n",
              "      <th>species_name</th>\n",
              "    </tr>\n",
              "  </thead>\n",
              "  <tbody>\n",
              "    <tr>\n",
              "      <th>0</th>\n",
              "      <td>5.1</td>\n",
              "      <td>3.5</td>\n",
              "      <td>1.4</td>\n",
              "      <td>0.2</td>\n",
              "      <td>setosa</td>\n",
              "    </tr>\n",
              "    <tr>\n",
              "      <th>1</th>\n",
              "      <td>4.9</td>\n",
              "      <td>3.0</td>\n",
              "      <td>1.4</td>\n",
              "      <td>0.2</td>\n",
              "      <td>setosa</td>\n",
              "    </tr>\n",
              "    <tr>\n",
              "      <th>2</th>\n",
              "      <td>4.7</td>\n",
              "      <td>3.2</td>\n",
              "      <td>1.3</td>\n",
              "      <td>0.2</td>\n",
              "      <td>setosa</td>\n",
              "    </tr>\n",
              "    <tr>\n",
              "      <th>3</th>\n",
              "      <td>4.6</td>\n",
              "      <td>3.1</td>\n",
              "      <td>1.5</td>\n",
              "      <td>0.2</td>\n",
              "      <td>setosa</td>\n",
              "    </tr>\n",
              "    <tr>\n",
              "      <th>4</th>\n",
              "      <td>5.0</td>\n",
              "      <td>3.6</td>\n",
              "      <td>1.4</td>\n",
              "      <td>0.2</td>\n",
              "      <td>setosa</td>\n",
              "    </tr>\n",
              "    <tr>\n",
              "      <th>...</th>\n",
              "      <td>...</td>\n",
              "      <td>...</td>\n",
              "      <td>...</td>\n",
              "      <td>...</td>\n",
              "      <td>...</td>\n",
              "    </tr>\n",
              "    <tr>\n",
              "      <th>95</th>\n",
              "      <td>5.7</td>\n",
              "      <td>3.0</td>\n",
              "      <td>4.2</td>\n",
              "      <td>1.2</td>\n",
              "      <td>versicolor</td>\n",
              "    </tr>\n",
              "    <tr>\n",
              "      <th>96</th>\n",
              "      <td>5.7</td>\n",
              "      <td>2.9</td>\n",
              "      <td>4.2</td>\n",
              "      <td>1.3</td>\n",
              "      <td>versicolor</td>\n",
              "    </tr>\n",
              "    <tr>\n",
              "      <th>97</th>\n",
              "      <td>6.2</td>\n",
              "      <td>2.9</td>\n",
              "      <td>4.3</td>\n",
              "      <td>1.3</td>\n",
              "      <td>versicolor</td>\n",
              "    </tr>\n",
              "    <tr>\n",
              "      <th>98</th>\n",
              "      <td>5.1</td>\n",
              "      <td>2.5</td>\n",
              "      <td>3.0</td>\n",
              "      <td>1.1</td>\n",
              "      <td>versicolor</td>\n",
              "    </tr>\n",
              "    <tr>\n",
              "      <th>99</th>\n",
              "      <td>5.7</td>\n",
              "      <td>2.8</td>\n",
              "      <td>4.1</td>\n",
              "      <td>1.3</td>\n",
              "      <td>versicolor</td>\n",
              "    </tr>\n",
              "  </tbody>\n",
              "</table>\n",
              "<p>100 rows × 5 columns</p>\n",
              "</div>"
            ],
            "text/plain": [
              "    sepal length (cm)  sepal width (cm)  ...  petal width (cm)  species_name\n",
              "0                 5.1               3.5  ...               0.2        setosa\n",
              "1                 4.9               3.0  ...               0.2        setosa\n",
              "2                 4.7               3.2  ...               0.2        setosa\n",
              "3                 4.6               3.1  ...               0.2        setosa\n",
              "4                 5.0               3.6  ...               0.2        setosa\n",
              "..                ...               ...  ...               ...           ...\n",
              "95                5.7               3.0  ...               1.2    versicolor\n",
              "96                5.7               2.9  ...               1.3    versicolor\n",
              "97                6.2               2.9  ...               1.3    versicolor\n",
              "98                5.1               2.5  ...               1.1    versicolor\n",
              "99                5.7               2.8  ...               1.3    versicolor\n",
              "\n",
              "[100 rows x 5 columns]"
            ]
          },
          "metadata": {
            "tags": []
          },
          "execution_count": 77
        }
      ]
    },
    {
      "cell_type": "markdown",
      "metadata": {
        "id": "KoeomL9PdBUi"
      },
      "source": [
        "X-variable we will consider only two features 'petal length' and 'petal width'"
      ]
    },
    {
      "cell_type": "code",
      "metadata": {
        "id": "5FJ8gM02c9I5",
        "colab": {
          "base_uri": "https://localhost:8080/",
          "height": 0
        },
        "outputId": "fb93cd1e-4b3b-40a5-9f20-a0b13a2eced9"
      },
      "source": [
        "X=df3.drop(['sepal length (cm)','sepal width (cm)','species_name'],axis=1)\n",
        "X.head()"
      ],
      "execution_count": 78,
      "outputs": [
        {
          "output_type": "execute_result",
          "data": {
            "text/html": [
              "<div>\n",
              "<style scoped>\n",
              "    .dataframe tbody tr th:only-of-type {\n",
              "        vertical-align: middle;\n",
              "    }\n",
              "\n",
              "    .dataframe tbody tr th {\n",
              "        vertical-align: top;\n",
              "    }\n",
              "\n",
              "    .dataframe thead th {\n",
              "        text-align: right;\n",
              "    }\n",
              "</style>\n",
              "<table border=\"1\" class=\"dataframe\">\n",
              "  <thead>\n",
              "    <tr style=\"text-align: right;\">\n",
              "      <th></th>\n",
              "      <th>petal length (cm)</th>\n",
              "      <th>petal width (cm)</th>\n",
              "    </tr>\n",
              "  </thead>\n",
              "  <tbody>\n",
              "    <tr>\n",
              "      <th>0</th>\n",
              "      <td>1.4</td>\n",
              "      <td>0.2</td>\n",
              "    </tr>\n",
              "    <tr>\n",
              "      <th>1</th>\n",
              "      <td>1.4</td>\n",
              "      <td>0.2</td>\n",
              "    </tr>\n",
              "    <tr>\n",
              "      <th>2</th>\n",
              "      <td>1.3</td>\n",
              "      <td>0.2</td>\n",
              "    </tr>\n",
              "    <tr>\n",
              "      <th>3</th>\n",
              "      <td>1.5</td>\n",
              "      <td>0.2</td>\n",
              "    </tr>\n",
              "    <tr>\n",
              "      <th>4</th>\n",
              "      <td>1.4</td>\n",
              "      <td>0.2</td>\n",
              "    </tr>\n",
              "  </tbody>\n",
              "</table>\n",
              "</div>"
            ],
            "text/plain": [
              "   petal length (cm)  petal width (cm)\n",
              "0                1.4               0.2\n",
              "1                1.4               0.2\n",
              "2                1.3               0.2\n",
              "3                1.5               0.2\n",
              "4                1.4               0.2"
            ]
          },
          "metadata": {
            "tags": []
          },
          "execution_count": 78
        }
      ]
    },
    {
      "cell_type": "code",
      "metadata": {
        "id": "j2nBEjcvc9Ax",
        "colab": {
          "base_uri": "https://localhost:8080/"
        },
        "outputId": "aee315a4-5fd9-429a-cd1a-92b1205628bf"
      },
      "source": [
        "y=df3.species_name\n",
        "y.head()"
      ],
      "execution_count": 79,
      "outputs": [
        {
          "output_type": "execute_result",
          "data": {
            "text/plain": [
              "0    setosa\n",
              "1    setosa\n",
              "2    setosa\n",
              "3    setosa\n",
              "4    setosa\n",
              "Name: species_name, dtype: object"
            ]
          },
          "metadata": {
            "tags": []
          },
          "execution_count": 79
        }
      ]
    },
    {
      "cell_type": "code",
      "metadata": {
        "id": "vFyl0czVc83O"
      },
      "source": [
        "X_train,X_test,y_train,y_test=train_test_split(X,y,test_size=0.2,random_state=4)"
      ],
      "execution_count": 80,
      "outputs": []
    },
    {
      "cell_type": "code",
      "metadata": {
        "id": "xSiZ4erLc8up",
        "colab": {
          "base_uri": "https://localhost:8080/"
        },
        "outputId": "54edaa65-018a-4bdb-8283-75b422d6e822"
      },
      "source": [
        "len(X_train)"
      ],
      "execution_count": 81,
      "outputs": [
        {
          "output_type": "execute_result",
          "data": {
            "text/plain": [
              "80"
            ]
          },
          "metadata": {
            "tags": []
          },
          "execution_count": 81
        }
      ]
    },
    {
      "cell_type": "code",
      "metadata": {
        "id": "v1_6sKlsc8oi",
        "colab": {
          "base_uri": "https://localhost:8080/"
        },
        "outputId": "ab38180e-b18a-4907-ce3d-afb7fc8339b6"
      },
      "source": [
        "len(X_test)"
      ],
      "execution_count": 82,
      "outputs": [
        {
          "output_type": "execute_result",
          "data": {
            "text/plain": [
              "20"
            ]
          },
          "metadata": {
            "tags": []
          },
          "execution_count": 82
        }
      ]
    },
    {
      "cell_type": "markdown",
      "metadata": {
        "id": "vqp8NEpReJ1P"
      },
      "source": [
        "Now we will import the SVC classifier from svm library"
      ]
    },
    {
      "cell_type": "code",
      "metadata": {
        "id": "kmy06myceDxx"
      },
      "source": [
        "from sklearn.svm import SVC"
      ],
      "execution_count": 83,
      "outputs": []
    },
    {
      "cell_type": "code",
      "metadata": {
        "id": "Eow56VCfeDub"
      },
      "source": [
        "model=SVC() #Creating an instance"
      ],
      "execution_count": 84,
      "outputs": []
    },
    {
      "cell_type": "code",
      "metadata": {
        "id": "1U_0y3MYeDpb",
        "colab": {
          "base_uri": "https://localhost:8080/"
        },
        "outputId": "c2105e1b-9df7-48a9-c9cf-92966a3889af"
      },
      "source": [
        "model.fit(X_train,y_train)"
      ],
      "execution_count": 85,
      "outputs": [
        {
          "output_type": "execute_result",
          "data": {
            "text/plain": [
              "SVC(C=1.0, break_ties=False, cache_size=200, class_weight=None, coef0=0.0,\n",
              "    decision_function_shape='ovr', degree=3, gamma='scale', kernel='rbf',\n",
              "    max_iter=-1, probability=False, random_state=None, shrinking=True,\n",
              "    tol=0.001, verbose=False)"
            ]
          },
          "metadata": {
            "tags": []
          },
          "execution_count": 85
        }
      ]
    },
    {
      "cell_type": "markdown",
      "metadata": {
        "id": "o2wTx6Nced3f"
      },
      "source": [
        "Notice from the output above:\n",
        "- C =1.0 is a regularization parameter             (means wider margin)\n",
        "- gamma is given as 'scale'\n",
        "- Kernel = 'rbf'  # by default considers non-linear line\n",
        "\n",
        "Notice, for seperating setosa with versicolor, we can use low C (higher margin) and kernel = linear\n"
      ]
    },
    {
      "cell_type": "markdown",
      "metadata": {
        "id": "CIYVBgvOenUb"
      },
      "source": [
        "Lets check the model accuracy (with default parameters first)"
      ]
    },
    {
      "cell_type": "code",
      "metadata": {
        "id": "DFjaHmdleDm_"
      },
      "source": [
        "y_pred=model.predict(X_test)"
      ],
      "execution_count": 86,
      "outputs": []
    },
    {
      "cell_type": "code",
      "metadata": {
        "id": "y_AmAImWeDka",
        "colab": {
          "base_uri": "https://localhost:8080/"
        },
        "outputId": "304cc9d7-2aa1-4e77-8445-fdf39b973957"
      },
      "source": [
        "from sklearn.metrics import accuracy_score\n",
        "print(accuracy_score(y_test,y_pred))"
      ],
      "execution_count": 87,
      "outputs": [
        {
          "output_type": "stream",
          "text": [
            "1.0\n"
          ],
          "name": "stdout"
        }
      ]
    },
    {
      "cell_type": "markdown",
      "metadata": {
        "id": "UUJdy8MGe-8F"
      },
      "source": [
        "Now, we will test changing few parameters \n",
        "\n",
        "Since we know that, there is scope for wider margin between setosa and versicolor species and no requirement for 'rbf' kernal"
      ]
    },
    {
      "cell_type": "code",
      "metadata": {
        "id": "NRqGy8Cue3t0"
      },
      "source": [
        "model=SVC(C=1,kernel='linear')"
      ],
      "execution_count": 88,
      "outputs": []
    },
    {
      "cell_type": "code",
      "metadata": {
        "id": "TmKMuL_He3ko",
        "colab": {
          "base_uri": "https://localhost:8080/"
        },
        "outputId": "0ae3e7cd-a988-4620-a8a2-d275de5d9029"
      },
      "source": [
        "model.fit(X_train,y_train)"
      ],
      "execution_count": 89,
      "outputs": [
        {
          "output_type": "execute_result",
          "data": {
            "text/plain": [
              "SVC(C=1, break_ties=False, cache_size=200, class_weight=None, coef0=0.0,\n",
              "    decision_function_shape='ovr', degree=3, gamma='scale', kernel='linear',\n",
              "    max_iter=-1, probability=False, random_state=None, shrinking=True,\n",
              "    tol=0.001, verbose=False)"
            ]
          },
          "metadata": {
            "tags": []
          },
          "execution_count": 89
        }
      ]
    },
    {
      "cell_type": "code",
      "metadata": {
        "id": "lGD6sWUme3au"
      },
      "source": [
        "y_pred=model.predict(X_test)"
      ],
      "execution_count": 90,
      "outputs": []
    },
    {
      "cell_type": "code",
      "metadata": {
        "id": "aZL3gvjNeDhb",
        "colab": {
          "base_uri": "https://localhost:8080/"
        },
        "outputId": "f4a33bba-c571-4b4f-cf16-bd0fa925e356"
      },
      "source": [
        "from sklearn.metrics import accuracy_score\n",
        "print(accuracy_score(y_test,y_pred))"
      ],
      "execution_count": 91,
      "outputs": [
        {
          "output_type": "stream",
          "text": [
            "1.0\n"
          ],
          "name": "stdout"
        }
      ]
    },
    {
      "cell_type": "markdown",
      "metadata": {
        "id": "3lDaBlXSffCy"
      },
      "source": [
        "## TRAINING AND TESTING BETWEEN VERSICOLOR AND VIRGINICA\n",
        "LETS CONSIDER NOW DOING THE SAME STEPS WITH VERSICOLOR AND VIRGINICA SPECIES \n",
        "\n",
        "USE 'PETAL LENGTH' AND 'PETAL WIDTH' AS THE FEATURES"
      ]
    },
    {
      "cell_type": "markdown",
      "metadata": {
        "id": "mGvHj0P3gAQ1"
      },
      "source": [
        "TRAINING THE MODEL AND TESTING THE MODEL\n",
        "- WE WILL SPLIT THE DATA\n",
        "- WE WILL TRAIN THE MODEL (FITTING)\n",
        "- WE WILL PREDICT USING TEST DATASET\n",
        "\n",
        "\n",
        "---\n",
        "\n",
        "\n",
        "NOTE: VERSICOLOR AND VERGINICA SPECIES ARE NOT EASILY SEPERABLE IN NATURE BY LINEAR LINE. SO, there is need for a high regularization parameter (c >1) and  a non-linear line (rbf with kernel and gamma)\n",
        "\n",
        " "
      ]
    },
    {
      "cell_type": "code",
      "metadata": {
        "id": "9Was6fFJgAQ2"
      },
      "source": [
        "from sklearn.model_selection import train_test_split"
      ],
      "execution_count": 99,
      "outputs": []
    },
    {
      "cell_type": "markdown",
      "metadata": {
        "id": "8RNpVczdgAQ7"
      },
      "source": [
        "\n",
        "\n",
        "---\n",
        "Notice that the, the dataframe 'df' has features and target names together.\n",
        "\n",
        "I want to seperate the two species 'versicolor' and 'virginica' and then apply SVM method using 'petal length' and 'petal width' as features\n",
        "\n",
        "  "
      ]
    },
    {
      "cell_type": "code",
      "metadata": {
        "id": "XwS1Em3vgAQ8"
      },
      "source": [
        "df4=[df1,df2]      \n",
        "#create a third dataframe consisting of versicolor and virginica dataframes. The output is not dataframe"
      ],
      "execution_count": 100,
      "outputs": []
    },
    {
      "cell_type": "code",
      "metadata": {
        "id": "aBH8iB_ogARB"
      },
      "source": [
        "df4=pd.concat(df4)  #by concatenating, we are creating a dataframe"
      ],
      "execution_count": 101,
      "outputs": []
    },
    {
      "cell_type": "code",
      "metadata": {
        "id": "qxY-qTS5gARF",
        "colab": {
          "base_uri": "https://localhost:8080/",
          "height": 0
        },
        "outputId": "e140aec6-f40d-46e6-f507-745aa6defd9f"
      },
      "source": [
        "df4"
      ],
      "execution_count": 102,
      "outputs": [
        {
          "output_type": "execute_result",
          "data": {
            "text/html": [
              "<div>\n",
              "<style scoped>\n",
              "    .dataframe tbody tr th:only-of-type {\n",
              "        vertical-align: middle;\n",
              "    }\n",
              "\n",
              "    .dataframe tbody tr th {\n",
              "        vertical-align: top;\n",
              "    }\n",
              "\n",
              "    .dataframe thead th {\n",
              "        text-align: right;\n",
              "    }\n",
              "</style>\n",
              "<table border=\"1\" class=\"dataframe\">\n",
              "  <thead>\n",
              "    <tr style=\"text-align: right;\">\n",
              "      <th></th>\n",
              "      <th>sepal length (cm)</th>\n",
              "      <th>sepal width (cm)</th>\n",
              "      <th>petal length (cm)</th>\n",
              "      <th>petal width (cm)</th>\n",
              "      <th>species_name</th>\n",
              "    </tr>\n",
              "  </thead>\n",
              "  <tbody>\n",
              "    <tr>\n",
              "      <th>50</th>\n",
              "      <td>7.0</td>\n",
              "      <td>3.2</td>\n",
              "      <td>4.7</td>\n",
              "      <td>1.4</td>\n",
              "      <td>versicolor</td>\n",
              "    </tr>\n",
              "    <tr>\n",
              "      <th>51</th>\n",
              "      <td>6.4</td>\n",
              "      <td>3.2</td>\n",
              "      <td>4.5</td>\n",
              "      <td>1.5</td>\n",
              "      <td>versicolor</td>\n",
              "    </tr>\n",
              "    <tr>\n",
              "      <th>52</th>\n",
              "      <td>6.9</td>\n",
              "      <td>3.1</td>\n",
              "      <td>4.9</td>\n",
              "      <td>1.5</td>\n",
              "      <td>versicolor</td>\n",
              "    </tr>\n",
              "    <tr>\n",
              "      <th>53</th>\n",
              "      <td>5.5</td>\n",
              "      <td>2.3</td>\n",
              "      <td>4.0</td>\n",
              "      <td>1.3</td>\n",
              "      <td>versicolor</td>\n",
              "    </tr>\n",
              "    <tr>\n",
              "      <th>54</th>\n",
              "      <td>6.5</td>\n",
              "      <td>2.8</td>\n",
              "      <td>4.6</td>\n",
              "      <td>1.5</td>\n",
              "      <td>versicolor</td>\n",
              "    </tr>\n",
              "    <tr>\n",
              "      <th>...</th>\n",
              "      <td>...</td>\n",
              "      <td>...</td>\n",
              "      <td>...</td>\n",
              "      <td>...</td>\n",
              "      <td>...</td>\n",
              "    </tr>\n",
              "    <tr>\n",
              "      <th>145</th>\n",
              "      <td>6.7</td>\n",
              "      <td>3.0</td>\n",
              "      <td>5.2</td>\n",
              "      <td>2.3</td>\n",
              "      <td>virginica</td>\n",
              "    </tr>\n",
              "    <tr>\n",
              "      <th>146</th>\n",
              "      <td>6.3</td>\n",
              "      <td>2.5</td>\n",
              "      <td>5.0</td>\n",
              "      <td>1.9</td>\n",
              "      <td>virginica</td>\n",
              "    </tr>\n",
              "    <tr>\n",
              "      <th>147</th>\n",
              "      <td>6.5</td>\n",
              "      <td>3.0</td>\n",
              "      <td>5.2</td>\n",
              "      <td>2.0</td>\n",
              "      <td>virginica</td>\n",
              "    </tr>\n",
              "    <tr>\n",
              "      <th>148</th>\n",
              "      <td>6.2</td>\n",
              "      <td>3.4</td>\n",
              "      <td>5.4</td>\n",
              "      <td>2.3</td>\n",
              "      <td>virginica</td>\n",
              "    </tr>\n",
              "    <tr>\n",
              "      <th>149</th>\n",
              "      <td>5.9</td>\n",
              "      <td>3.0</td>\n",
              "      <td>5.1</td>\n",
              "      <td>1.8</td>\n",
              "      <td>virginica</td>\n",
              "    </tr>\n",
              "  </tbody>\n",
              "</table>\n",
              "<p>100 rows × 5 columns</p>\n",
              "</div>"
            ],
            "text/plain": [
              "     sepal length (cm)  sepal width (cm)  ...  petal width (cm)  species_name\n",
              "50                 7.0               3.2  ...               1.4    versicolor\n",
              "51                 6.4               3.2  ...               1.5    versicolor\n",
              "52                 6.9               3.1  ...               1.5    versicolor\n",
              "53                 5.5               2.3  ...               1.3    versicolor\n",
              "54                 6.5               2.8  ...               1.5    versicolor\n",
              "..                 ...               ...  ...               ...           ...\n",
              "145                6.7               3.0  ...               2.3     virginica\n",
              "146                6.3               2.5  ...               1.9     virginica\n",
              "147                6.5               3.0  ...               2.0     virginica\n",
              "148                6.2               3.4  ...               2.3     virginica\n",
              "149                5.9               3.0  ...               1.8     virginica\n",
              "\n",
              "[100 rows x 5 columns]"
            ]
          },
          "metadata": {
            "tags": []
          },
          "execution_count": 102
        }
      ]
    },
    {
      "cell_type": "markdown",
      "metadata": {
        "id": "BwNq67WRgARL"
      },
      "source": [
        "X-variable we will consider only two features 'petal length' and 'petal width'"
      ]
    },
    {
      "cell_type": "code",
      "metadata": {
        "id": "1zOXowDigARL",
        "colab": {
          "base_uri": "https://localhost:8080/",
          "height": 0
        },
        "outputId": "5d3d1c70-32cd-4154-984c-596d07c2bfac"
      },
      "source": [
        "X=df4.drop(['sepal length (cm)','sepal width (cm)','species_name'],axis=1)\n",
        "X.head()"
      ],
      "execution_count": 103,
      "outputs": [
        {
          "output_type": "execute_result",
          "data": {
            "text/html": [
              "<div>\n",
              "<style scoped>\n",
              "    .dataframe tbody tr th:only-of-type {\n",
              "        vertical-align: middle;\n",
              "    }\n",
              "\n",
              "    .dataframe tbody tr th {\n",
              "        vertical-align: top;\n",
              "    }\n",
              "\n",
              "    .dataframe thead th {\n",
              "        text-align: right;\n",
              "    }\n",
              "</style>\n",
              "<table border=\"1\" class=\"dataframe\">\n",
              "  <thead>\n",
              "    <tr style=\"text-align: right;\">\n",
              "      <th></th>\n",
              "      <th>petal length (cm)</th>\n",
              "      <th>petal width (cm)</th>\n",
              "    </tr>\n",
              "  </thead>\n",
              "  <tbody>\n",
              "    <tr>\n",
              "      <th>50</th>\n",
              "      <td>4.7</td>\n",
              "      <td>1.4</td>\n",
              "    </tr>\n",
              "    <tr>\n",
              "      <th>51</th>\n",
              "      <td>4.5</td>\n",
              "      <td>1.5</td>\n",
              "    </tr>\n",
              "    <tr>\n",
              "      <th>52</th>\n",
              "      <td>4.9</td>\n",
              "      <td>1.5</td>\n",
              "    </tr>\n",
              "    <tr>\n",
              "      <th>53</th>\n",
              "      <td>4.0</td>\n",
              "      <td>1.3</td>\n",
              "    </tr>\n",
              "    <tr>\n",
              "      <th>54</th>\n",
              "      <td>4.6</td>\n",
              "      <td>1.5</td>\n",
              "    </tr>\n",
              "  </tbody>\n",
              "</table>\n",
              "</div>"
            ],
            "text/plain": [
              "    petal length (cm)  petal width (cm)\n",
              "50                4.7               1.4\n",
              "51                4.5               1.5\n",
              "52                4.9               1.5\n",
              "53                4.0               1.3\n",
              "54                4.6               1.5"
            ]
          },
          "metadata": {
            "tags": []
          },
          "execution_count": 103
        }
      ]
    },
    {
      "cell_type": "code",
      "metadata": {
        "id": "q0j-5MROgARN",
        "colab": {
          "base_uri": "https://localhost:8080/"
        },
        "outputId": "e54ba4b7-8a4c-4236-c255-2e2628d94cab"
      },
      "source": [
        "y=df4.species_name\n",
        "y.head()"
      ],
      "execution_count": 104,
      "outputs": [
        {
          "output_type": "execute_result",
          "data": {
            "text/plain": [
              "50    versicolor\n",
              "51    versicolor\n",
              "52    versicolor\n",
              "53    versicolor\n",
              "54    versicolor\n",
              "Name: species_name, dtype: object"
            ]
          },
          "metadata": {
            "tags": []
          },
          "execution_count": 104
        }
      ]
    },
    {
      "cell_type": "code",
      "metadata": {
        "id": "dv1qr6wkgARS"
      },
      "source": [
        "X_train,X_test,y_train,y_test=train_test_split(X,y,test_size=0.2,random_state=4)"
      ],
      "execution_count": 105,
      "outputs": []
    },
    {
      "cell_type": "code",
      "metadata": {
        "id": "pdxM8ARngARU",
        "colab": {
          "base_uri": "https://localhost:8080/"
        },
        "outputId": "b612b817-39b3-47db-c039-bd51bacb6993"
      },
      "source": [
        "len(X_train)"
      ],
      "execution_count": 106,
      "outputs": [
        {
          "output_type": "execute_result",
          "data": {
            "text/plain": [
              "80"
            ]
          },
          "metadata": {
            "tags": []
          },
          "execution_count": 106
        }
      ]
    },
    {
      "cell_type": "code",
      "metadata": {
        "id": "Dy6PL6o2gARW",
        "colab": {
          "base_uri": "https://localhost:8080/"
        },
        "outputId": "1cfd21b2-92bf-4ac5-ea86-c797e98d392b"
      },
      "source": [
        "len(X_test)"
      ],
      "execution_count": 107,
      "outputs": [
        {
          "output_type": "execute_result",
          "data": {
            "text/plain": [
              "20"
            ]
          },
          "metadata": {
            "tags": []
          },
          "execution_count": 107
        }
      ]
    },
    {
      "cell_type": "markdown",
      "metadata": {
        "id": "IXNBsgDpgARY"
      },
      "source": [
        "Now we will import the SVC classifier from svm library"
      ]
    },
    {
      "cell_type": "code",
      "metadata": {
        "id": "dizMtAXvgARZ"
      },
      "source": [
        "from sklearn.svm import SVC"
      ],
      "execution_count": 108,
      "outputs": []
    },
    {
      "cell_type": "code",
      "metadata": {
        "id": "UNuoM5TbgARb"
      },
      "source": [
        "model=SVC(C=1.0,kernel='linear') #Creating an instance"
      ],
      "execution_count": 109,
      "outputs": []
    },
    {
      "cell_type": "code",
      "metadata": {
        "id": "r6HDL71agARd",
        "colab": {
          "base_uri": "https://localhost:8080/"
        },
        "outputId": "fa7fbd5a-0d15-422c-c4e8-87ed40a0be0b"
      },
      "source": [
        "model.fit(X_train,y_train)"
      ],
      "execution_count": 110,
      "outputs": [
        {
          "output_type": "execute_result",
          "data": {
            "text/plain": [
              "SVC(C=1.0, break_ties=False, cache_size=200, class_weight=None, coef0=0.0,\n",
              "    decision_function_shape='ovr', degree=3, gamma='scale', kernel='linear',\n",
              "    max_iter=-1, probability=False, random_state=None, shrinking=True,\n",
              "    tol=0.001, verbose=False)"
            ]
          },
          "metadata": {
            "tags": []
          },
          "execution_count": 110
        }
      ]
    },
    {
      "cell_type": "markdown",
      "metadata": {
        "id": "uk64ExMYgARg"
      },
      "source": [
        "Notice from the output above:\n",
        "- C =1.0 is a regularization parameter             (means wider margin)\n",
        "- gamma is given as 'scale'\n",
        "- Kernel = 'rbf'  # by default considers non-linear line\n",
        "\n",
        "Notice, for seperating setosa with versicolor, we can use low C (higher margin) and kernel = linear\n"
      ]
    },
    {
      "cell_type": "markdown",
      "metadata": {
        "id": "jTiuv7X2gARh"
      },
      "source": [
        "Lets check the model accuracy (with default parameters first)"
      ]
    },
    {
      "cell_type": "code",
      "metadata": {
        "id": "FjKpF8kLgARh"
      },
      "source": [
        "y_pred=model.predict(X_test)"
      ],
      "execution_count": 111,
      "outputs": []
    },
    {
      "cell_type": "code",
      "metadata": {
        "id": "-QwW9Db7gARj",
        "colab": {
          "base_uri": "https://localhost:8080/"
        },
        "outputId": "58ac72cb-37e9-4cf3-b86e-d727a481b39f"
      },
      "source": [
        "from sklearn.metrics import accuracy_score\n",
        "print(accuracy_score(y_test,y_pred))"
      ],
      "execution_count": 112,
      "outputs": [
        {
          "output_type": "stream",
          "text": [
            "0.95\n"
          ],
          "name": "stdout"
        }
      ]
    },
    {
      "cell_type": "markdown",
      "metadata": {
        "id": "Euqf9SAigARm"
      },
      "source": [
        "Now, we will test changing few parameters \n",
        "\n",
        "Since we know that, there is no scope for wider margin between setosa and versicolor species and a requirement for 'rbf' kernal"
      ]
    },
    {
      "cell_type": "code",
      "metadata": {
        "id": "rqF9CscmgARn"
      },
      "source": [
        "model=SVC(C=10,kernel='rbf',gamma=0.01)"
      ],
      "execution_count": 113,
      "outputs": []
    },
    {
      "cell_type": "code",
      "metadata": {
        "id": "HZM52-GJgARp",
        "colab": {
          "base_uri": "https://localhost:8080/"
        },
        "outputId": "29c2135e-f90a-4ffc-8318-329bdc6d639c"
      },
      "source": [
        "model.fit(X_train,y_train)"
      ],
      "execution_count": 114,
      "outputs": [
        {
          "output_type": "execute_result",
          "data": {
            "text/plain": [
              "SVC(C=10, break_ties=False, cache_size=200, class_weight=None, coef0=0.0,\n",
              "    decision_function_shape='ovr', degree=3, gamma=0.01, kernel='rbf',\n",
              "    max_iter=-1, probability=False, random_state=None, shrinking=True,\n",
              "    tol=0.001, verbose=False)"
            ]
          },
          "metadata": {
            "tags": []
          },
          "execution_count": 114
        }
      ]
    },
    {
      "cell_type": "code",
      "metadata": {
        "id": "7HCw--ozgARr"
      },
      "source": [
        "y_pred=model.predict(X_test)"
      ],
      "execution_count": 115,
      "outputs": []
    },
    {
      "cell_type": "code",
      "metadata": {
        "id": "M1_3dQMAgARt",
        "colab": {
          "base_uri": "https://localhost:8080/"
        },
        "outputId": "3733cf02-8118-4da2-c50e-f44adab6b3ed"
      },
      "source": [
        "from sklearn.metrics import accuracy_score\n",
        "print(accuracy_score(y_test,y_pred))"
      ],
      "execution_count": 116,
      "outputs": [
        {
          "output_type": "stream",
          "text": [
            "0.95\n"
          ],
          "name": "stdout"
        }
      ]
    },
    {
      "cell_type": "markdown",
      "metadata": {
        "id": "sJBR7t6ch8wY"
      },
      "source": [
        "Now, we will test changing few parameters \n",
        "\n",
        "Since we know that, there is no scope for wider margin between setosa and versicolor species and a requirement for 'rbf' kernal\n",
        "\n",
        "\n",
        "\n",
        "\n"
      ]
    },
    {
      "cell_type": "code",
      "metadata": {
        "id": "wRRUktA2h8Q4",
        "colab": {
          "base_uri": "https://localhost:8080/"
        },
        "outputId": "f7e04acf-15c4-4569-d5db-4433ef992b68"
      },
      "source": [
        "model=SVC(C=50,kernel='rbf',gamma=1)\n",
        "model.fit(X_train,y_train)\n",
        "model.score(X_test,y_test)  #another way to test accuracy score"
      ],
      "execution_count": 117,
      "outputs": [
        {
          "output_type": "execute_result",
          "data": {
            "text/plain": [
              "0.95"
            ]
          },
          "metadata": {
            "tags": []
          },
          "execution_count": 117
        }
      ]
    },
    {
      "cell_type": "code",
      "metadata": {
        "id": "wlLZcX4hh4uT",
        "colab": {
          "base_uri": "https://localhost:8080/"
        },
        "outputId": "f1304ff0-ae2d-422d-f436-b1e99b81ff77"
      },
      "source": [
        "model=SVC(C=50,kernel='rbf',gamma=10)\n",
        "model.fit(X_train,y_train)\n",
        "model.score(X_test,y_test)  #another way to test accuracy score"
      ],
      "execution_count": 118,
      "outputs": [
        {
          "output_type": "execute_result",
          "data": {
            "text/plain": [
              "0.95"
            ]
          },
          "metadata": {
            "tags": []
          },
          "execution_count": 118
        }
      ]
    },
    {
      "cell_type": "markdown",
      "metadata": {
        "id": "eDjTYMXhj-Jc"
      },
      "source": [
        "THUS, THIS CALL FOR A GRIDSEARCH VIEW TO TUNE THE PARAMETERS TO GET THE BEST CLASSIFICATION ACCURACY"
      ]
    },
    {
      "cell_type": "markdown",
      "metadata": {
        "id": "6WsP_GM_kO-r"
      },
      "source": [
        "## TAKING MULTI-CLASS PROBLEM - WE WILL CONSIDER ALL THE THREE CLASSES OF SPECIES AND THEN ALL THE FOUR FEATURES TO FIND THE ACCURACY"
      ]
    },
    {
      "cell_type": "markdown",
      "metadata": {
        "id": "-WmW7wu7Msfl"
      },
      "source": [
        "we will use the drop function to assign features to X variables and target variables to Y "
      ]
    },
    {
      "cell_type": "code",
      "metadata": {
        "id": "Oct6AMMKMsLN",
        "colab": {
          "base_uri": "https://localhost:8080/",
          "height": 195
        },
        "outputId": "05f45a21-1901-44b7-a5a7-ea5bcd4eab3b"
      },
      "source": [
        "X=df.drop(['species_name'],axis=1)\n",
        "X.head()"
      ],
      "execution_count": 124,
      "outputs": [
        {
          "output_type": "execute_result",
          "data": {
            "text/html": [
              "<div>\n",
              "<style scoped>\n",
              "    .dataframe tbody tr th:only-of-type {\n",
              "        vertical-align: middle;\n",
              "    }\n",
              "\n",
              "    .dataframe tbody tr th {\n",
              "        vertical-align: top;\n",
              "    }\n",
              "\n",
              "    .dataframe thead th {\n",
              "        text-align: right;\n",
              "    }\n",
              "</style>\n",
              "<table border=\"1\" class=\"dataframe\">\n",
              "  <thead>\n",
              "    <tr style=\"text-align: right;\">\n",
              "      <th></th>\n",
              "      <th>sepal length (cm)</th>\n",
              "      <th>sepal width (cm)</th>\n",
              "      <th>petal length (cm)</th>\n",
              "      <th>petal width (cm)</th>\n",
              "    </tr>\n",
              "  </thead>\n",
              "  <tbody>\n",
              "    <tr>\n",
              "      <th>0</th>\n",
              "      <td>5.1</td>\n",
              "      <td>3.5</td>\n",
              "      <td>1.4</td>\n",
              "      <td>0.2</td>\n",
              "    </tr>\n",
              "    <tr>\n",
              "      <th>1</th>\n",
              "      <td>4.9</td>\n",
              "      <td>3.0</td>\n",
              "      <td>1.4</td>\n",
              "      <td>0.2</td>\n",
              "    </tr>\n",
              "    <tr>\n",
              "      <th>2</th>\n",
              "      <td>4.7</td>\n",
              "      <td>3.2</td>\n",
              "      <td>1.3</td>\n",
              "      <td>0.2</td>\n",
              "    </tr>\n",
              "    <tr>\n",
              "      <th>3</th>\n",
              "      <td>4.6</td>\n",
              "      <td>3.1</td>\n",
              "      <td>1.5</td>\n",
              "      <td>0.2</td>\n",
              "    </tr>\n",
              "    <tr>\n",
              "      <th>4</th>\n",
              "      <td>5.0</td>\n",
              "      <td>3.6</td>\n",
              "      <td>1.4</td>\n",
              "      <td>0.2</td>\n",
              "    </tr>\n",
              "  </tbody>\n",
              "</table>\n",
              "</div>"
            ],
            "text/plain": [
              "   sepal length (cm)  sepal width (cm)  petal length (cm)  petal width (cm)\n",
              "0                5.1               3.5                1.4               0.2\n",
              "1                4.9               3.0                1.4               0.2\n",
              "2                4.7               3.2                1.3               0.2\n",
              "3                4.6               3.1                1.5               0.2\n",
              "4                5.0               3.6                1.4               0.2"
            ]
          },
          "metadata": {
            "tags": []
          },
          "execution_count": 124
        }
      ]
    },
    {
      "cell_type": "code",
      "metadata": {
        "id": "nHbG7XSnJyzG",
        "colab": {
          "base_uri": "https://localhost:8080/"
        },
        "outputId": "79eeb2bc-52b5-49b6-b21d-413a0b11d735"
      },
      "source": [
        "y=df.species_name\n",
        "y.head()"
      ],
      "execution_count": 125,
      "outputs": [
        {
          "output_type": "execute_result",
          "data": {
            "text/plain": [
              "0    setosa\n",
              "1    setosa\n",
              "2    setosa\n",
              "3    setosa\n",
              "4    setosa\n",
              "Name: species_name, dtype: object"
            ]
          },
          "metadata": {
            "tags": []
          },
          "execution_count": 125
        }
      ]
    },
    {
      "cell_type": "code",
      "metadata": {
        "id": "B6wnoynDJyv_"
      },
      "source": [
        "X_train,X_test,y_train,y_test=train_test_split(X,y,test_size=0.2,random_state=4)"
      ],
      "execution_count": 126,
      "outputs": []
    },
    {
      "cell_type": "code",
      "metadata": {
        "id": "3C7GnB9EJyqY",
        "colab": {
          "base_uri": "https://localhost:8080/"
        },
        "outputId": "56eec948-0962-4e84-ce08-9d6d247bbe8e"
      },
      "source": [
        "len(X_train)"
      ],
      "execution_count": 127,
      "outputs": [
        {
          "output_type": "execute_result",
          "data": {
            "text/plain": [
              "120"
            ]
          },
          "metadata": {
            "tags": []
          },
          "execution_count": 127
        }
      ]
    },
    {
      "cell_type": "code",
      "metadata": {
        "id": "VGOj2BohJyl7",
        "colab": {
          "base_uri": "https://localhost:8080/"
        },
        "outputId": "d288348c-b778-4799-c1b9-412768dfbbd5"
      },
      "source": [
        "len(X_test)"
      ],
      "execution_count": 128,
      "outputs": [
        {
          "output_type": "execute_result",
          "data": {
            "text/plain": [
              "30"
            ]
          },
          "metadata": {
            "tags": []
          },
          "execution_count": 128
        }
      ]
    },
    {
      "cell_type": "markdown",
      "metadata": {
        "id": "L5D-aF1SNsmB"
      },
      "source": [
        "Now we will import the SVC classifier from svm library"
      ]
    },
    {
      "cell_type": "code",
      "metadata": {
        "id": "eM6Q0zoHJybM"
      },
      "source": [
        "from sklearn.svm import SVC"
      ],
      "execution_count": 129,
      "outputs": []
    },
    {
      "cell_type": "code",
      "metadata": {
        "id": "RnwB4S4pOCth"
      },
      "source": [
        "model=SVC() #Creating an instance"
      ],
      "execution_count": 130,
      "outputs": []
    },
    {
      "cell_type": "code",
      "metadata": {
        "id": "N40fVpVHOCoZ",
        "colab": {
          "base_uri": "https://localhost:8080/"
        },
        "outputId": "225d29a4-222c-4bf8-d2e3-93e8969cca6f"
      },
      "source": [
        "model.fit(X_train,y_train)"
      ],
      "execution_count": 131,
      "outputs": [
        {
          "output_type": "execute_result",
          "data": {
            "text/plain": [
              "SVC(C=1.0, break_ties=False, cache_size=200, class_weight=None, coef0=0.0,\n",
              "    decision_function_shape='ovr', degree=3, gamma='scale', kernel='rbf',\n",
              "    max_iter=-1, probability=False, random_state=None, shrinking=True,\n",
              "    tol=0.001, verbose=False)"
            ]
          },
          "metadata": {
            "tags": []
          },
          "execution_count": 131
        }
      ]
    },
    {
      "cell_type": "markdown",
      "metadata": {
        "id": "0aOTN5O4PL0L"
      },
      "source": [
        "\n",
        "\n",
        "---\n",
        "Notice from the output above:\n",
        "- C =1.0 is a regularization parameter             (means wider margin)\n",
        "- gamma is given as 'scale'\n",
        "- Kernel = 'rbf'  # by default considers non-linear line\n",
        "\n",
        "Notice, for seperating setosa with versicolor, we can use low C (higher margin) and kernel = linear\n",
        "\n",
        "\n",
        "\n",
        "\n",
        "\n",
        "\n"
      ]
    },
    {
      "cell_type": "markdown",
      "metadata": {
        "id": "-SQzpPQwVCug"
      },
      "source": [
        "\n",
        "\n",
        "---\n",
        "Lets check the model accuracy\n"
      ]
    },
    {
      "cell_type": "code",
      "metadata": {
        "id": "mLe9ulZ5OClL"
      },
      "source": [
        "y_pred=model.predict(X_test)"
      ],
      "execution_count": 132,
      "outputs": []
    },
    {
      "cell_type": "code",
      "metadata": {
        "id": "CKadVL4nOChK",
        "colab": {
          "base_uri": "https://localhost:8080/"
        },
        "outputId": "bc845ce6-e9aa-4955-eb90-f10a4c6c469f"
      },
      "source": [
        "from sklearn.metrics import accuracy_score\n",
        "print(accuracy_score(y_test,y_pred))"
      ],
      "execution_count": 133,
      "outputs": [
        {
          "output_type": "stream",
          "text": [
            "0.9666666666666667\n"
          ],
          "name": "stdout"
        }
      ]
    },
    {
      "cell_type": "markdown",
      "metadata": {
        "id": "Qf1MoDkwVvSJ"
      },
      "source": [
        "Now, we will test changing few parameters \n",
        "\n",
        "Since we know that, there is scope for wider margin between setosa and versicolor species and no requirement for 'rbf' kernal\n",
        "\n"
      ]
    },
    {
      "cell_type": "code",
      "metadata": {
        "id": "iQ3mvMMVOCde"
      },
      "source": [
        "model=SVC(C=10,kernel='linear')"
      ],
      "execution_count": 134,
      "outputs": []
    },
    {
      "cell_type": "code",
      "metadata": {
        "id": "BosTVyArOCQV",
        "colab": {
          "base_uri": "https://localhost:8080/"
        },
        "outputId": "80205c83-1a2a-4617-8b9e-3d847deb19fa"
      },
      "source": [
        "model.fit(X_train,y_train)"
      ],
      "execution_count": 135,
      "outputs": [
        {
          "output_type": "execute_result",
          "data": {
            "text/plain": [
              "SVC(C=10, break_ties=False, cache_size=200, class_weight=None, coef0=0.0,\n",
              "    decision_function_shape='ovr', degree=3, gamma='scale', kernel='linear',\n",
              "    max_iter=-1, probability=False, random_state=None, shrinking=True,\n",
              "    tol=0.001, verbose=False)"
            ]
          },
          "metadata": {
            "tags": []
          },
          "execution_count": 135
        }
      ]
    },
    {
      "cell_type": "code",
      "metadata": {
        "id": "QDxQi9ceWZA9",
        "colab": {
          "base_uri": "https://localhost:8080/"
        },
        "outputId": "0a78cd0a-6f0c-4b42-ff53-e57af8f3facc"
      },
      "source": [
        "model.score(X_test,y_test)"
      ],
      "execution_count": 136,
      "outputs": [
        {
          "output_type": "execute_result",
          "data": {
            "text/plain": [
              "0.9666666666666667"
            ]
          },
          "metadata": {
            "tags": []
          },
          "execution_count": 136
        }
      ]
    },
    {
      "cell_type": "markdown",
      "metadata": {
        "id": "Q-nZcAMLW3aY"
      },
      "source": [
        "Notice: increasing regularization parameter reduces the margin, leading to lesser accuracy"
      ]
    },
    {
      "cell_type": "code",
      "metadata": {
        "id": "hthrcNehWY2B",
        "colab": {
          "base_uri": "https://localhost:8080/"
        },
        "outputId": "9299c0d1-db08-4a11-c8fa-eeec72ec2e52"
      },
      "source": [
        "model=SVC(C=100,kernel='linear')\n",
        "model.fit(X_train,y_train)\n",
        "model.score(X_test,y_test)"
      ],
      "execution_count": 137,
      "outputs": [
        {
          "output_type": "execute_result",
          "data": {
            "text/plain": [
              "0.9333333333333333"
            ]
          },
          "metadata": {
            "tags": []
          },
          "execution_count": 137
        }
      ]
    },
    {
      "cell_type": "markdown",
      "metadata": {
        "id": "V5Ca32_xXGTB"
      },
      "source": [
        "We can also use the gamma parameter\n",
        "gamma=1.0"
      ]
    },
    {
      "cell_type": "code",
      "metadata": {
        "id": "ibOqhWRNXBLT",
        "colab": {
          "base_uri": "https://localhost:8080/"
        },
        "outputId": "3d3005dc-1a28-452e-9796-e0dce8596211"
      },
      "source": [
        "model=SVC(C=1,kernel='linear',gamma=1.0)\n",
        "model.fit(X_train,y_train)\n",
        "model.score(X_test,y_test)\n",
        " "
      ],
      "execution_count": 138,
      "outputs": [
        {
          "output_type": "execute_result",
          "data": {
            "text/plain": [
              "0.9666666666666667"
            ]
          },
          "metadata": {
            "tags": []
          },
          "execution_count": 138
        }
      ]
    }
  ]
}